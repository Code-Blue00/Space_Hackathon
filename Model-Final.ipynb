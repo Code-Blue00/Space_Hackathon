{
 "cells": [
  {
   "cell_type": "code",
   "execution_count": 1,
   "id": "cc8df0ac-61bf-497b-a2fa-c41e3692666d",
   "metadata": {},
   "outputs": [],
   "source": [
    "import pandas as pd"
   ]
  },
  {
   "cell_type": "code",
   "execution_count": 2,
   "id": "97cc69ff-bc15-45de-b578-101ff29db47a",
   "metadata": {},
   "outputs": [
    {
     "name": "stderr",
     "output_type": "stream",
     "text": [
      "C:\\Users\\harsh\\AppData\\Local\\Temp\\ipykernel_16472\\4054461446.py:1: DtypeWarning: Columns (14) have mixed types. Specify dtype option on import or set low_memory=False.\n",
      "  df=pd.read_csv(r\"C:\\Users\\harsh\\Downloads\\train.csv\") #Training Dataset\n"
     ]
    }
   ],
   "source": [
    "df=pd.read_csv(r\"C:\\Users\\harsh\\Downloads\\train.csv\") #Training Dataset\n",
    "DF=pd.read_csv(r\"C:\\Users\\harsh\\Downloads\\test.csv\") #Test Dataset"
   ]
  },
  {
   "cell_type": "markdown",
   "id": "35504f1a-955e-44b8-9c11-f94e6088277c",
   "metadata": {},
   "source": [
    "Analysing Train Dataset"
   ]
  },
  {
   "cell_type": "code",
   "execution_count": 5,
   "id": "ed24fe71-01d3-4d5e-a7ac-037ba267c3e4",
   "metadata": {},
   "outputs": [
    {
     "data": {
      "text/html": [
       "<div>\n",
       "<style scoped>\n",
       "    .dataframe tbody tr th:only-of-type {\n",
       "        vertical-align: middle;\n",
       "    }\n",
       "\n",
       "    .dataframe tbody tr th {\n",
       "        vertical-align: top;\n",
       "    }\n",
       "\n",
       "    .dataframe thead th {\n",
       "        text-align: right;\n",
       "    }\n",
       "</style>\n",
       "<table border=\"1\" class=\"dataframe\">\n",
       "  <thead>\n",
       "    <tr style=\"text-align: right;\">\n",
       "      <th></th>\n",
       "      <th>name</th>\n",
       "      <th>a</th>\n",
       "      <th>e</th>\n",
       "      <th>i</th>\n",
       "      <th>om</th>\n",
       "      <th>w</th>\n",
       "      <th>q</th>\n",
       "      <th>ad</th>\n",
       "      <th>per_y</th>\n",
       "      <th>data_arc</th>\n",
       "      <th>condition_code</th>\n",
       "      <th>H</th>\n",
       "      <th>neo</th>\n",
       "      <th>pha</th>\n",
       "      <th>diameter</th>\n",
       "      <th>albedo</th>\n",
       "      <th>rot_per</th>\n",
       "      <th>moid</th>\n",
       "    </tr>\n",
       "  </thead>\n",
       "  <tbody>\n",
       "    <tr>\n",
       "      <th>0</th>\n",
       "      <td>Asteroid 680001</td>\n",
       "      <td>2.690380</td>\n",
       "      <td>0.153785</td>\n",
       "      <td>15.278304</td>\n",
       "      <td>137.353513</td>\n",
       "      <td>72.385330</td>\n",
       "      <td>2.276641</td>\n",
       "      <td>3.104120</td>\n",
       "      <td>4.412947</td>\n",
       "      <td>37.0</td>\n",
       "      <td>5.0</td>\n",
       "      <td>17.297</td>\n",
       "      <td>N</td>\n",
       "      <td>N</td>\n",
       "      <td>NaN</td>\n",
       "      <td>NaN</td>\n",
       "      <td>NaN</td>\n",
       "      <td>1.327590</td>\n",
       "    </tr>\n",
       "    <tr>\n",
       "      <th>1</th>\n",
       "      <td>Asteroid 661512</td>\n",
       "      <td>2.795391</td>\n",
       "      <td>0.212308</td>\n",
       "      <td>0.862358</td>\n",
       "      <td>2.162248</td>\n",
       "      <td>204.270241</td>\n",
       "      <td>2.201908</td>\n",
       "      <td>3.388875</td>\n",
       "      <td>4.673821</td>\n",
       "      <td>58.0</td>\n",
       "      <td>5.0</td>\n",
       "      <td>17.877</td>\n",
       "      <td>N</td>\n",
       "      <td>N</td>\n",
       "      <td>NaN</td>\n",
       "      <td>NaN</td>\n",
       "      <td>NaN</td>\n",
       "      <td>1.197960</td>\n",
       "    </tr>\n",
       "    <tr>\n",
       "      <th>2</th>\n",
       "      <td>Asteroid 674443</td>\n",
       "      <td>2.246465</td>\n",
       "      <td>0.153411</td>\n",
       "      <td>6.166486</td>\n",
       "      <td>267.926030</td>\n",
       "      <td>72.591975</td>\n",
       "      <td>1.901832</td>\n",
       "      <td>2.591098</td>\n",
       "      <td>3.367113</td>\n",
       "      <td>1036.0</td>\n",
       "      <td>6.0</td>\n",
       "      <td>18.545</td>\n",
       "      <td>N</td>\n",
       "      <td>N</td>\n",
       "      <td>NaN</td>\n",
       "      <td>NaN</td>\n",
       "      <td>NaN</td>\n",
       "      <td>0.902990</td>\n",
       "    </tr>\n",
       "    <tr>\n",
       "      <th>3</th>\n",
       "      <td>Asteroid 598285</td>\n",
       "      <td>2.178503</td>\n",
       "      <td>0.159044</td>\n",
       "      <td>6.605079</td>\n",
       "      <td>22.855426</td>\n",
       "      <td>252.771284</td>\n",
       "      <td>1.832025</td>\n",
       "      <td>2.524981</td>\n",
       "      <td>3.215477</td>\n",
       "      <td>2771.0</td>\n",
       "      <td>1.0</td>\n",
       "      <td>18.700</td>\n",
       "      <td>N</td>\n",
       "      <td>N</td>\n",
       "      <td>NaN</td>\n",
       "      <td>NaN</td>\n",
       "      <td>NaN</td>\n",
       "      <td>0.828794</td>\n",
       "    </tr>\n",
       "    <tr>\n",
       "      <th>4</th>\n",
       "      <td>Asteroid 761499</td>\n",
       "      <td>3.338566</td>\n",
       "      <td>0.126848</td>\n",
       "      <td>7.990340</td>\n",
       "      <td>103.235554</td>\n",
       "      <td>2.303605</td>\n",
       "      <td>2.915075</td>\n",
       "      <td>3.762058</td>\n",
       "      <td>6.100259</td>\n",
       "      <td>2.0</td>\n",
       "      <td>9.0</td>\n",
       "      <td>16.393</td>\n",
       "      <td>N</td>\n",
       "      <td>N</td>\n",
       "      <td>NaN</td>\n",
       "      <td>NaN</td>\n",
       "      <td>NaN</td>\n",
       "      <td>1.930500</td>\n",
       "    </tr>\n",
       "    <tr>\n",
       "      <th>...</th>\n",
       "      <td>...</td>\n",
       "      <td>...</td>\n",
       "      <td>...</td>\n",
       "      <td>...</td>\n",
       "      <td>...</td>\n",
       "      <td>...</td>\n",
       "      <td>...</td>\n",
       "      <td>...</td>\n",
       "      <td>...</td>\n",
       "      <td>...</td>\n",
       "      <td>...</td>\n",
       "      <td>...</td>\n",
       "      <td>...</td>\n",
       "      <td>...</td>\n",
       "      <td>...</td>\n",
       "      <td>...</td>\n",
       "      <td>...</td>\n",
       "      <td>...</td>\n",
       "    </tr>\n",
       "    <tr>\n",
       "      <th>740939</th>\n",
       "      <td>Asteroid 259178</td>\n",
       "      <td>2.632243</td>\n",
       "      <td>0.323732</td>\n",
       "      <td>29.373469</td>\n",
       "      <td>139.817847</td>\n",
       "      <td>280.693973</td>\n",
       "      <td>1.780100</td>\n",
       "      <td>3.484385</td>\n",
       "      <td>4.270681</td>\n",
       "      <td>5747.0</td>\n",
       "      <td>0.0</td>\n",
       "      <td>15.100</td>\n",
       "      <td>N</td>\n",
       "      <td>N</td>\n",
       "      <td>2.212</td>\n",
       "      <td>0.329</td>\n",
       "      <td>NaN</td>\n",
       "      <td>0.996905</td>\n",
       "    </tr>\n",
       "    <tr>\n",
       "      <th>740940</th>\n",
       "      <td>Asteroid 365838</td>\n",
       "      <td>2.319522</td>\n",
       "      <td>0.118122</td>\n",
       "      <td>5.539529</td>\n",
       "      <td>206.160216</td>\n",
       "      <td>247.178701</td>\n",
       "      <td>2.045536</td>\n",
       "      <td>2.593509</td>\n",
       "      <td>3.532694</td>\n",
       "      <td>5098.0</td>\n",
       "      <td>0.0</td>\n",
       "      <td>17.700</td>\n",
       "      <td>N</td>\n",
       "      <td>N</td>\n",
       "      <td>NaN</td>\n",
       "      <td>NaN</td>\n",
       "      <td>NaN</td>\n",
       "      <td>1.069560</td>\n",
       "    </tr>\n",
       "    <tr>\n",
       "      <th>740941</th>\n",
       "      <td>Asteroid 131932</td>\n",
       "      <td>2.360919</td>\n",
       "      <td>0.171291</td>\n",
       "      <td>9.778080</td>\n",
       "      <td>109.873275</td>\n",
       "      <td>5.609913</td>\n",
       "      <td>1.956516</td>\n",
       "      <td>2.765323</td>\n",
       "      <td>3.627688</td>\n",
       "      <td>7055.0</td>\n",
       "      <td>0.0</td>\n",
       "      <td>15.700</td>\n",
       "      <td>N</td>\n",
       "      <td>N</td>\n",
       "      <td>2.327</td>\n",
       "      <td>0.271</td>\n",
       "      <td>NaN</td>\n",
       "      <td>0.973468</td>\n",
       "    </tr>\n",
       "    <tr>\n",
       "      <th>740942</th>\n",
       "      <td>Asteroid 678175</td>\n",
       "      <td>2.596439</td>\n",
       "      <td>0.323050</td>\n",
       "      <td>5.301735</td>\n",
       "      <td>350.380543</td>\n",
       "      <td>60.659686</td>\n",
       "      <td>1.757660</td>\n",
       "      <td>3.435218</td>\n",
       "      <td>4.183843</td>\n",
       "      <td>6287.0</td>\n",
       "      <td>1.0</td>\n",
       "      <td>18.100</td>\n",
       "      <td>N</td>\n",
       "      <td>N</td>\n",
       "      <td>NaN</td>\n",
       "      <td>NaN</td>\n",
       "      <td>NaN</td>\n",
       "      <td>0.774939</td>\n",
       "    </tr>\n",
       "    <tr>\n",
       "      <th>740943</th>\n",
       "      <td>Asteroid 121958</td>\n",
       "      <td>2.335028</td>\n",
       "      <td>0.122715</td>\n",
       "      <td>1.152707</td>\n",
       "      <td>307.941207</td>\n",
       "      <td>297.604365</td>\n",
       "      <td>2.048485</td>\n",
       "      <td>2.621571</td>\n",
       "      <td>3.568176</td>\n",
       "      <td>7171.0</td>\n",
       "      <td>0.0</td>\n",
       "      <td>16.500</td>\n",
       "      <td>N</td>\n",
       "      <td>N</td>\n",
       "      <td>2.743</td>\n",
       "      <td>0.059</td>\n",
       "      <td>NaN</td>\n",
       "      <td>1.035170</td>\n",
       "    </tr>\n",
       "  </tbody>\n",
       "</table>\n",
       "<p>740944 rows × 18 columns</p>\n",
       "</div>"
      ],
      "text/plain": [
       "                   name         a         e          i          om  \\\n",
       "0       Asteroid 680001  2.690380  0.153785  15.278304  137.353513   \n",
       "1       Asteroid 661512  2.795391  0.212308   0.862358    2.162248   \n",
       "2       Asteroid 674443  2.246465  0.153411   6.166486  267.926030   \n",
       "3       Asteroid 598285  2.178503  0.159044   6.605079   22.855426   \n",
       "4       Asteroid 761499  3.338566  0.126848   7.990340  103.235554   \n",
       "...                 ...       ...       ...        ...         ...   \n",
       "740939  Asteroid 259178  2.632243  0.323732  29.373469  139.817847   \n",
       "740940  Asteroid 365838  2.319522  0.118122   5.539529  206.160216   \n",
       "740941  Asteroid 131932  2.360919  0.171291   9.778080  109.873275   \n",
       "740942  Asteroid 678175  2.596439  0.323050   5.301735  350.380543   \n",
       "740943  Asteroid 121958  2.335028  0.122715   1.152707  307.941207   \n",
       "\n",
       "                 w         q        ad     per_y  data_arc  condition_code  \\\n",
       "0        72.385330  2.276641  3.104120  4.412947      37.0             5.0   \n",
       "1       204.270241  2.201908  3.388875  4.673821      58.0             5.0   \n",
       "2        72.591975  1.901832  2.591098  3.367113    1036.0             6.0   \n",
       "3       252.771284  1.832025  2.524981  3.215477    2771.0             1.0   \n",
       "4         2.303605  2.915075  3.762058  6.100259       2.0             9.0   \n",
       "...            ...       ...       ...       ...       ...             ...   \n",
       "740939  280.693973  1.780100  3.484385  4.270681    5747.0             0.0   \n",
       "740940  247.178701  2.045536  2.593509  3.532694    5098.0             0.0   \n",
       "740941    5.609913  1.956516  2.765323  3.627688    7055.0             0.0   \n",
       "740942   60.659686  1.757660  3.435218  4.183843    6287.0             1.0   \n",
       "740943  297.604365  2.048485  2.621571  3.568176    7171.0             0.0   \n",
       "\n",
       "             H neo pha diameter  albedo  rot_per      moid  \n",
       "0       17.297   N   N      NaN     NaN      NaN  1.327590  \n",
       "1       17.877   N   N      NaN     NaN      NaN  1.197960  \n",
       "2       18.545   N   N      NaN     NaN      NaN  0.902990  \n",
       "3       18.700   N   N      NaN     NaN      NaN  0.828794  \n",
       "4       16.393   N   N      NaN     NaN      NaN  1.930500  \n",
       "...        ...  ..  ..      ...     ...      ...       ...  \n",
       "740939  15.100   N   N    2.212   0.329      NaN  0.996905  \n",
       "740940  17.700   N   N      NaN     NaN      NaN  1.069560  \n",
       "740941  15.700   N   N    2.327   0.271      NaN  0.973468  \n",
       "740942  18.100   N   N      NaN     NaN      NaN  0.774939  \n",
       "740943  16.500   N   N    2.743   0.059      NaN  1.035170  \n",
       "\n",
       "[740944 rows x 18 columns]"
      ]
     },
     "execution_count": 5,
     "metadata": {},
     "output_type": "execute_result"
    }
   ],
   "source": [
    "df"
   ]
  },
  {
   "cell_type": "code",
   "execution_count": 6,
   "id": "53351ae7-ffa1-43ea-b4bb-be1b4d9cdeb0",
   "metadata": {},
   "outputs": [
    {
     "data": {
      "text/plain": [
       "name                   0\n",
       "a                      1\n",
       "e                      0\n",
       "i                      0\n",
       "om                     0\n",
       "w                      0\n",
       "q                      0\n",
       "ad                     5\n",
       "per_y                  1\n",
       "data_arc             374\n",
       "condition_code        12\n",
       "H                   2417\n",
       "neo                    5\n",
       "pha                    0\n",
       "diameter          616969\n",
       "albedo            618061\n",
       "rot_per           723979\n",
       "moid                   0\n",
       "dtype: int64"
      ]
     },
     "execution_count": 6,
     "metadata": {},
     "output_type": "execute_result"
    }
   ],
   "source": [
    "df.isna().sum()"
   ]
  },
  {
   "cell_type": "code",
   "execution_count": 7,
   "id": "65651abd-9441-468a-b3d6-ce733a3fed47",
   "metadata": {},
   "outputs": [],
   "source": [
    "df2=df.drop([\"name\",\"diameter\",'albedo','rot_per'],axis=\"columns\")"
   ]
  },
  {
   "cell_type": "code",
   "execution_count": 8,
   "id": "e65e774a-4786-4710-bcf0-355c0245d96d",
   "metadata": {
    "scrolled": true
   },
   "outputs": [
    {
     "data": {
      "text/html": [
       "<div>\n",
       "<style scoped>\n",
       "    .dataframe tbody tr th:only-of-type {\n",
       "        vertical-align: middle;\n",
       "    }\n",
       "\n",
       "    .dataframe tbody tr th {\n",
       "        vertical-align: top;\n",
       "    }\n",
       "\n",
       "    .dataframe thead th {\n",
       "        text-align: right;\n",
       "    }\n",
       "</style>\n",
       "<table border=\"1\" class=\"dataframe\">\n",
       "  <thead>\n",
       "    <tr style=\"text-align: right;\">\n",
       "      <th></th>\n",
       "      <th>a</th>\n",
       "      <th>e</th>\n",
       "      <th>i</th>\n",
       "      <th>om</th>\n",
       "      <th>w</th>\n",
       "      <th>q</th>\n",
       "      <th>ad</th>\n",
       "      <th>per_y</th>\n",
       "      <th>data_arc</th>\n",
       "      <th>condition_code</th>\n",
       "      <th>H</th>\n",
       "      <th>neo</th>\n",
       "      <th>pha</th>\n",
       "      <th>moid</th>\n",
       "    </tr>\n",
       "  </thead>\n",
       "  <tbody>\n",
       "    <tr>\n",
       "      <th>0</th>\n",
       "      <td>2.690380</td>\n",
       "      <td>0.153785</td>\n",
       "      <td>15.278304</td>\n",
       "      <td>137.353513</td>\n",
       "      <td>72.385330</td>\n",
       "      <td>2.276641</td>\n",
       "      <td>3.104120</td>\n",
       "      <td>4.412947</td>\n",
       "      <td>37.0</td>\n",
       "      <td>5.0</td>\n",
       "      <td>17.297</td>\n",
       "      <td>N</td>\n",
       "      <td>N</td>\n",
       "      <td>1.327590</td>\n",
       "    </tr>\n",
       "    <tr>\n",
       "      <th>1</th>\n",
       "      <td>2.795391</td>\n",
       "      <td>0.212308</td>\n",
       "      <td>0.862358</td>\n",
       "      <td>2.162248</td>\n",
       "      <td>204.270241</td>\n",
       "      <td>2.201908</td>\n",
       "      <td>3.388875</td>\n",
       "      <td>4.673821</td>\n",
       "      <td>58.0</td>\n",
       "      <td>5.0</td>\n",
       "      <td>17.877</td>\n",
       "      <td>N</td>\n",
       "      <td>N</td>\n",
       "      <td>1.197960</td>\n",
       "    </tr>\n",
       "    <tr>\n",
       "      <th>2</th>\n",
       "      <td>2.246465</td>\n",
       "      <td>0.153411</td>\n",
       "      <td>6.166486</td>\n",
       "      <td>267.926030</td>\n",
       "      <td>72.591975</td>\n",
       "      <td>1.901832</td>\n",
       "      <td>2.591098</td>\n",
       "      <td>3.367113</td>\n",
       "      <td>1036.0</td>\n",
       "      <td>6.0</td>\n",
       "      <td>18.545</td>\n",
       "      <td>N</td>\n",
       "      <td>N</td>\n",
       "      <td>0.902990</td>\n",
       "    </tr>\n",
       "    <tr>\n",
       "      <th>3</th>\n",
       "      <td>2.178503</td>\n",
       "      <td>0.159044</td>\n",
       "      <td>6.605079</td>\n",
       "      <td>22.855426</td>\n",
       "      <td>252.771284</td>\n",
       "      <td>1.832025</td>\n",
       "      <td>2.524981</td>\n",
       "      <td>3.215477</td>\n",
       "      <td>2771.0</td>\n",
       "      <td>1.0</td>\n",
       "      <td>18.700</td>\n",
       "      <td>N</td>\n",
       "      <td>N</td>\n",
       "      <td>0.828794</td>\n",
       "    </tr>\n",
       "    <tr>\n",
       "      <th>4</th>\n",
       "      <td>3.338566</td>\n",
       "      <td>0.126848</td>\n",
       "      <td>7.990340</td>\n",
       "      <td>103.235554</td>\n",
       "      <td>2.303605</td>\n",
       "      <td>2.915075</td>\n",
       "      <td>3.762058</td>\n",
       "      <td>6.100259</td>\n",
       "      <td>2.0</td>\n",
       "      <td>9.0</td>\n",
       "      <td>16.393</td>\n",
       "      <td>N</td>\n",
       "      <td>N</td>\n",
       "      <td>1.930500</td>\n",
       "    </tr>\n",
       "    <tr>\n",
       "      <th>...</th>\n",
       "      <td>...</td>\n",
       "      <td>...</td>\n",
       "      <td>...</td>\n",
       "      <td>...</td>\n",
       "      <td>...</td>\n",
       "      <td>...</td>\n",
       "      <td>...</td>\n",
       "      <td>...</td>\n",
       "      <td>...</td>\n",
       "      <td>...</td>\n",
       "      <td>...</td>\n",
       "      <td>...</td>\n",
       "      <td>...</td>\n",
       "      <td>...</td>\n",
       "    </tr>\n",
       "    <tr>\n",
       "      <th>740939</th>\n",
       "      <td>2.632243</td>\n",
       "      <td>0.323732</td>\n",
       "      <td>29.373469</td>\n",
       "      <td>139.817847</td>\n",
       "      <td>280.693973</td>\n",
       "      <td>1.780100</td>\n",
       "      <td>3.484385</td>\n",
       "      <td>4.270681</td>\n",
       "      <td>5747.0</td>\n",
       "      <td>0.0</td>\n",
       "      <td>15.100</td>\n",
       "      <td>N</td>\n",
       "      <td>N</td>\n",
       "      <td>0.996905</td>\n",
       "    </tr>\n",
       "    <tr>\n",
       "      <th>740940</th>\n",
       "      <td>2.319522</td>\n",
       "      <td>0.118122</td>\n",
       "      <td>5.539529</td>\n",
       "      <td>206.160216</td>\n",
       "      <td>247.178701</td>\n",
       "      <td>2.045536</td>\n",
       "      <td>2.593509</td>\n",
       "      <td>3.532694</td>\n",
       "      <td>5098.0</td>\n",
       "      <td>0.0</td>\n",
       "      <td>17.700</td>\n",
       "      <td>N</td>\n",
       "      <td>N</td>\n",
       "      <td>1.069560</td>\n",
       "    </tr>\n",
       "    <tr>\n",
       "      <th>740941</th>\n",
       "      <td>2.360919</td>\n",
       "      <td>0.171291</td>\n",
       "      <td>9.778080</td>\n",
       "      <td>109.873275</td>\n",
       "      <td>5.609913</td>\n",
       "      <td>1.956516</td>\n",
       "      <td>2.765323</td>\n",
       "      <td>3.627688</td>\n",
       "      <td>7055.0</td>\n",
       "      <td>0.0</td>\n",
       "      <td>15.700</td>\n",
       "      <td>N</td>\n",
       "      <td>N</td>\n",
       "      <td>0.973468</td>\n",
       "    </tr>\n",
       "    <tr>\n",
       "      <th>740942</th>\n",
       "      <td>2.596439</td>\n",
       "      <td>0.323050</td>\n",
       "      <td>5.301735</td>\n",
       "      <td>350.380543</td>\n",
       "      <td>60.659686</td>\n",
       "      <td>1.757660</td>\n",
       "      <td>3.435218</td>\n",
       "      <td>4.183843</td>\n",
       "      <td>6287.0</td>\n",
       "      <td>1.0</td>\n",
       "      <td>18.100</td>\n",
       "      <td>N</td>\n",
       "      <td>N</td>\n",
       "      <td>0.774939</td>\n",
       "    </tr>\n",
       "    <tr>\n",
       "      <th>740943</th>\n",
       "      <td>2.335028</td>\n",
       "      <td>0.122715</td>\n",
       "      <td>1.152707</td>\n",
       "      <td>307.941207</td>\n",
       "      <td>297.604365</td>\n",
       "      <td>2.048485</td>\n",
       "      <td>2.621571</td>\n",
       "      <td>3.568176</td>\n",
       "      <td>7171.0</td>\n",
       "      <td>0.0</td>\n",
       "      <td>16.500</td>\n",
       "      <td>N</td>\n",
       "      <td>N</td>\n",
       "      <td>1.035170</td>\n",
       "    </tr>\n",
       "  </tbody>\n",
       "</table>\n",
       "<p>740944 rows × 14 columns</p>\n",
       "</div>"
      ],
      "text/plain": [
       "               a         e          i          om           w         q  \\\n",
       "0       2.690380  0.153785  15.278304  137.353513   72.385330  2.276641   \n",
       "1       2.795391  0.212308   0.862358    2.162248  204.270241  2.201908   \n",
       "2       2.246465  0.153411   6.166486  267.926030   72.591975  1.901832   \n",
       "3       2.178503  0.159044   6.605079   22.855426  252.771284  1.832025   \n",
       "4       3.338566  0.126848   7.990340  103.235554    2.303605  2.915075   \n",
       "...          ...       ...        ...         ...         ...       ...   \n",
       "740939  2.632243  0.323732  29.373469  139.817847  280.693973  1.780100   \n",
       "740940  2.319522  0.118122   5.539529  206.160216  247.178701  2.045536   \n",
       "740941  2.360919  0.171291   9.778080  109.873275    5.609913  1.956516   \n",
       "740942  2.596439  0.323050   5.301735  350.380543   60.659686  1.757660   \n",
       "740943  2.335028  0.122715   1.152707  307.941207  297.604365  2.048485   \n",
       "\n",
       "              ad     per_y  data_arc  condition_code       H neo pha      moid  \n",
       "0       3.104120  4.412947      37.0             5.0  17.297   N   N  1.327590  \n",
       "1       3.388875  4.673821      58.0             5.0  17.877   N   N  1.197960  \n",
       "2       2.591098  3.367113    1036.0             6.0  18.545   N   N  0.902990  \n",
       "3       2.524981  3.215477    2771.0             1.0  18.700   N   N  0.828794  \n",
       "4       3.762058  6.100259       2.0             9.0  16.393   N   N  1.930500  \n",
       "...          ...       ...       ...             ...     ...  ..  ..       ...  \n",
       "740939  3.484385  4.270681    5747.0             0.0  15.100   N   N  0.996905  \n",
       "740940  2.593509  3.532694    5098.0             0.0  17.700   N   N  1.069560  \n",
       "740941  2.765323  3.627688    7055.0             0.0  15.700   N   N  0.973468  \n",
       "740942  3.435218  4.183843    6287.0             1.0  18.100   N   N  0.774939  \n",
       "740943  2.621571  3.568176    7171.0             0.0  16.500   N   N  1.035170  \n",
       "\n",
       "[740944 rows x 14 columns]"
      ]
     },
     "execution_count": 8,
     "metadata": {},
     "output_type": "execute_result"
    }
   ],
   "source": [
    "df2"
   ]
  },
  {
   "cell_type": "code",
   "execution_count": 9,
   "id": "ba6585dd-2918-4eca-98c2-df8ae5644fbd",
   "metadata": {},
   "outputs": [],
   "source": [
    "# Checking Columns if theres any anamoly"
   ]
  },
  {
   "cell_type": "code",
   "execution_count": 10,
   "id": "958fc362-4811-4540-8e44-82e3866897e1",
   "metadata": {},
   "outputs": [
    {
     "data": {
      "text/plain": [
       "count    740943.000000\n",
       "mean          2.741015\n",
       "std         121.712726\n",
       "min     -104279.220900\n",
       "25%           2.384557\n",
       "50%           2.643718\n",
       "75%           2.995737\n",
       "max        1775.174210\n",
       "Name: a, dtype: float64"
      ]
     },
     "execution_count": 10,
     "metadata": {},
     "output_type": "execute_result"
    }
   ],
   "source": [
    "df2.a.describe()"
   ]
  },
  {
   "cell_type": "code",
   "execution_count": 11,
   "id": "acaffaf5-5491-4870-b028-277dde047ce7",
   "metadata": {},
   "outputs": [],
   "source": [
    "df2.loc[df2.a<=0,\"a\"] = df2[df2.a<=0].q/(1-df2[df2.a<=0].e)"
   ]
  },
  {
   "cell_type": "code",
   "execution_count": 12,
   "id": "efe2f871-c902-4dde-8c1f-ecc57034caca",
   "metadata": {},
   "outputs": [
    {
     "data": {
      "text/html": [
       "<div>\n",
       "<style scoped>\n",
       "    .dataframe tbody tr th:only-of-type {\n",
       "        vertical-align: middle;\n",
       "    }\n",
       "\n",
       "    .dataframe tbody tr th {\n",
       "        vertical-align: top;\n",
       "    }\n",
       "\n",
       "    .dataframe thead th {\n",
       "        text-align: right;\n",
       "    }\n",
       "</style>\n",
       "<table border=\"1\" class=\"dataframe\">\n",
       "  <thead>\n",
       "    <tr style=\"text-align: right;\">\n",
       "      <th></th>\n",
       "      <th>a</th>\n",
       "      <th>e</th>\n",
       "      <th>i</th>\n",
       "      <th>om</th>\n",
       "      <th>w</th>\n",
       "      <th>q</th>\n",
       "      <th>ad</th>\n",
       "      <th>per_y</th>\n",
       "      <th>data_arc</th>\n",
       "      <th>condition_code</th>\n",
       "      <th>H</th>\n",
       "      <th>neo</th>\n",
       "      <th>pha</th>\n",
       "      <th>moid</th>\n",
       "    </tr>\n",
       "  </thead>\n",
       "  <tbody>\n",
       "    <tr>\n",
       "      <th>17903</th>\n",
       "      <td>-7770.005273</td>\n",
       "      <td>1.000826</td>\n",
       "      <td>142.636401</td>\n",
       "      <td>276.230222</td>\n",
       "      <td>326.001880</td>\n",
       "      <td>6.417550</td>\n",
       "      <td>NaN</td>\n",
       "      <td>0.0</td>\n",
       "      <td>798.0</td>\n",
       "      <td>NaN</td>\n",
       "      <td>10.644</td>\n",
       "      <td>NaN</td>\n",
       "      <td>N</td>\n",
       "      <td>5.464480</td>\n",
       "    </tr>\n",
       "    <tr>\n",
       "      <th>66800</th>\n",
       "      <td>-1.272345</td>\n",
       "      <td>1.201134</td>\n",
       "      <td>122.741706</td>\n",
       "      <td>24.596910</td>\n",
       "      <td>241.810536</td>\n",
       "      <td>0.255912</td>\n",
       "      <td>NaN</td>\n",
       "      <td>NaN</td>\n",
       "      <td>80.0</td>\n",
       "      <td>NaN</td>\n",
       "      <td>22.080</td>\n",
       "      <td>NaN</td>\n",
       "      <td>N</td>\n",
       "      <td>0.095821</td>\n",
       "    </tr>\n",
       "    <tr>\n",
       "      <th>376225</th>\n",
       "      <td>-104278.723448</td>\n",
       "      <td>1.000056</td>\n",
       "      <td>138.380218</td>\n",
       "      <td>130.468071</td>\n",
       "      <td>287.870052</td>\n",
       "      <td>5.858483</td>\n",
       "      <td>NaN</td>\n",
       "      <td>0.0</td>\n",
       "      <td>201.0</td>\n",
       "      <td>NaN</td>\n",
       "      <td>13.434</td>\n",
       "      <td>NaN</td>\n",
       "      <td>N</td>\n",
       "      <td>5.116310</td>\n",
       "    </tr>\n",
       "    <tr>\n",
       "      <th>729072</th>\n",
       "      <td>-3562.472486</td>\n",
       "      <td>1.001016</td>\n",
       "      <td>113.525939</td>\n",
       "      <td>2.699366</td>\n",
       "      <td>181.618473</td>\n",
       "      <td>3.618257</td>\n",
       "      <td>NaN</td>\n",
       "      <td>0.0</td>\n",
       "      <td>18.0</td>\n",
       "      <td>NaN</td>\n",
       "      <td>10.420</td>\n",
       "      <td>NaN</td>\n",
       "      <td>N</td>\n",
       "      <td>2.621050</td>\n",
       "    </tr>\n",
       "  </tbody>\n",
       "</table>\n",
       "</div>"
      ],
      "text/plain": [
       "                    a         e           i          om           w         q  \\\n",
       "17903    -7770.005273  1.000826  142.636401  276.230222  326.001880  6.417550   \n",
       "66800       -1.272345  1.201134  122.741706   24.596910  241.810536  0.255912   \n",
       "376225 -104278.723448  1.000056  138.380218  130.468071  287.870052  5.858483   \n",
       "729072   -3562.472486  1.001016  113.525939    2.699366  181.618473  3.618257   \n",
       "\n",
       "        ad  per_y  data_arc  condition_code       H  neo pha      moid  \n",
       "17903  NaN    0.0     798.0             NaN  10.644  NaN   N  5.464480  \n",
       "66800  NaN    NaN      80.0             NaN  22.080  NaN   N  0.095821  \n",
       "376225 NaN    0.0     201.0             NaN  13.434  NaN   N  5.116310  \n",
       "729072 NaN    0.0      18.0             NaN  10.420  NaN   N  2.621050  "
      ]
     },
     "execution_count": 12,
     "metadata": {},
     "output_type": "execute_result"
    }
   ],
   "source": [
    "df2[df2.a<0] # These are - coz these have hyperbolic orbits"
   ]
  },
  {
   "cell_type": "code",
   "execution_count": 13,
   "id": "b65d759c-4600-459d-bac0-7da2f559196b",
   "metadata": {},
   "outputs": [],
   "source": [
    "#These are hyperbolic orbit asteroids , We may keep them as it is to train the model (Even though negative 'a' is not defined)\n"
   ]
  },
  {
   "cell_type": "markdown",
   "id": "4151ab62-62ea-4297-9078-f0ff956a1a93",
   "metadata": {},
   "source": [
    "df2.drop(df2[df2.a<0].index.values,inplace=True)"
   ]
  },
  {
   "cell_type": "code",
   "execution_count": 15,
   "id": "fc60b286-0da1-49e8-8c55-54b97601e123",
   "metadata": {},
   "outputs": [
    {
     "data": {
      "text/html": [
       "<div>\n",
       "<style scoped>\n",
       "    .dataframe tbody tr th:only-of-type {\n",
       "        vertical-align: middle;\n",
       "    }\n",
       "\n",
       "    .dataframe tbody tr th {\n",
       "        vertical-align: top;\n",
       "    }\n",
       "\n",
       "    .dataframe thead th {\n",
       "        text-align: right;\n",
       "    }\n",
       "</style>\n",
       "<table border=\"1\" class=\"dataframe\">\n",
       "  <thead>\n",
       "    <tr style=\"text-align: right;\">\n",
       "      <th></th>\n",
       "      <th>a</th>\n",
       "      <th>e</th>\n",
       "      <th>i</th>\n",
       "      <th>om</th>\n",
       "      <th>w</th>\n",
       "      <th>q</th>\n",
       "      <th>ad</th>\n",
       "      <th>per_y</th>\n",
       "      <th>data_arc</th>\n",
       "      <th>condition_code</th>\n",
       "      <th>H</th>\n",
       "      <th>neo</th>\n",
       "      <th>pha</th>\n",
       "      <th>moid</th>\n",
       "    </tr>\n",
       "  </thead>\n",
       "  <tbody>\n",
       "    <tr>\n",
       "      <th>98323</th>\n",
       "      <td>NaN</td>\n",
       "      <td>1.0</td>\n",
       "      <td>89.826795</td>\n",
       "      <td>300.387873</td>\n",
       "      <td>59.801951</td>\n",
       "      <td>8.828361</td>\n",
       "      <td>NaN</td>\n",
       "      <td>0.0</td>\n",
       "      <td>111.0</td>\n",
       "      <td>NaN</td>\n",
       "      <td>9.5996</td>\n",
       "      <td>NaN</td>\n",
       "      <td>N</td>\n",
       "      <td>8.2762</td>\n",
       "    </tr>\n",
       "  </tbody>\n",
       "</table>\n",
       "</div>"
      ],
      "text/plain": [
       "        a    e          i          om          w         q  ad  per_y  \\\n",
       "98323 NaN  1.0  89.826795  300.387873  59.801951  8.828361 NaN    0.0   \n",
       "\n",
       "       data_arc  condition_code       H  neo pha    moid  \n",
       "98323     111.0             NaN  9.5996  NaN   N  8.2762  "
      ]
     },
     "execution_count": 15,
     "metadata": {},
     "output_type": "execute_result"
    }
   ],
   "source": [
    "df2[df2.a.isna()]# We can inplace a very large number in a as its parabolic"
   ]
  },
  {
   "cell_type": "code",
   "execution_count": 16,
   "id": "a542f2be-09bb-427f-89cb-33e7ec8f427d",
   "metadata": {},
   "outputs": [],
   "source": [
    "df2.loc[df2.e==1,\"a\"] = 1e10"
   ]
  },
  {
   "cell_type": "code",
   "execution_count": 17,
   "id": "95382886-e185-4409-b506-14f384d52b43",
   "metadata": {},
   "outputs": [
    {
     "data": {
      "text/html": [
       "<div>\n",
       "<style scoped>\n",
       "    .dataframe tbody tr th:only-of-type {\n",
       "        vertical-align: middle;\n",
       "    }\n",
       "\n",
       "    .dataframe tbody tr th {\n",
       "        vertical-align: top;\n",
       "    }\n",
       "\n",
       "    .dataframe thead th {\n",
       "        text-align: right;\n",
       "    }\n",
       "</style>\n",
       "<table border=\"1\" class=\"dataframe\">\n",
       "  <thead>\n",
       "    <tr style=\"text-align: right;\">\n",
       "      <th></th>\n",
       "      <th>a</th>\n",
       "      <th>e</th>\n",
       "      <th>i</th>\n",
       "      <th>om</th>\n",
       "      <th>w</th>\n",
       "      <th>q</th>\n",
       "      <th>ad</th>\n",
       "      <th>per_y</th>\n",
       "      <th>data_arc</th>\n",
       "      <th>condition_code</th>\n",
       "      <th>H</th>\n",
       "      <th>neo</th>\n",
       "      <th>pha</th>\n",
       "      <th>moid</th>\n",
       "    </tr>\n",
       "  </thead>\n",
       "  <tbody>\n",
       "    <tr>\n",
       "      <th>98323</th>\n",
       "      <td>1.000000e+10</td>\n",
       "      <td>1.000000</td>\n",
       "      <td>89.826795</td>\n",
       "      <td>300.387873</td>\n",
       "      <td>59.801951</td>\n",
       "      <td>8.828361</td>\n",
       "      <td>NaN</td>\n",
       "      <td>0.00000</td>\n",
       "      <td>111.0</td>\n",
       "      <td>NaN</td>\n",
       "      <td>9.5996</td>\n",
       "      <td>NaN</td>\n",
       "      <td>N</td>\n",
       "      <td>8.27620</td>\n",
       "    </tr>\n",
       "    <tr>\n",
       "      <th>179102</th>\n",
       "      <td>1.775174e+03</td>\n",
       "      <td>0.998509</td>\n",
       "      <td>111.471367</td>\n",
       "      <td>155.634263</td>\n",
       "      <td>239.380177</td>\n",
       "      <td>2.646616</td>\n",
       "      <td>3547.701804</td>\n",
       "      <td>74794.50147</td>\n",
       "      <td>64.0</td>\n",
       "      <td>NaN</td>\n",
       "      <td>12.9760</td>\n",
       "      <td>N</td>\n",
       "      <td>N</td>\n",
       "      <td>1.98591</td>\n",
       "    </tr>\n",
       "    <tr>\n",
       "      <th>411474</th>\n",
       "      <td>1.010385e+03</td>\n",
       "      <td>0.935587</td>\n",
       "      <td>11.658049</td>\n",
       "      <td>300.824689</td>\n",
       "      <td>117.953441</td>\n",
       "      <td>65.081902</td>\n",
       "      <td>1955.689047</td>\n",
       "      <td>32117.28631</td>\n",
       "      <td>1100.0</td>\n",
       "      <td>4.0</td>\n",
       "      <td>5.5000</td>\n",
       "      <td>N</td>\n",
       "      <td>N</td>\n",
       "      <td>64.11030</td>\n",
       "    </tr>\n",
       "    <tr>\n",
       "      <th>495806</th>\n",
       "      <td>1.505441e+03</td>\n",
       "      <td>0.975865</td>\n",
       "      <td>20.655044</td>\n",
       "      <td>336.883214</td>\n",
       "      <td>134.161931</td>\n",
       "      <td>36.333315</td>\n",
       "      <td>2974.548305</td>\n",
       "      <td>58412.22234</td>\n",
       "      <td>1511.0</td>\n",
       "      <td>4.0</td>\n",
       "      <td>6.1000</td>\n",
       "      <td>N</td>\n",
       "      <td>N</td>\n",
       "      <td>35.38290</td>\n",
       "    </tr>\n",
       "    <tr>\n",
       "      <th>542630</th>\n",
       "      <td>1.498998e+03</td>\n",
       "      <td>0.997379</td>\n",
       "      <td>132.401398</td>\n",
       "      <td>42.917771</td>\n",
       "      <td>187.575644</td>\n",
       "      <td>3.928978</td>\n",
       "      <td>2994.066769</td>\n",
       "      <td>58037.63773</td>\n",
       "      <td>110.0</td>\n",
       "      <td>NaN</td>\n",
       "      <td>13.5320</td>\n",
       "      <td>N</td>\n",
       "      <td>N</td>\n",
       "      <td>2.92672</td>\n",
       "    </tr>\n",
       "    <tr>\n",
       "      <th>624941</th>\n",
       "      <td>1.603443e+03</td>\n",
       "      <td>0.990914</td>\n",
       "      <td>77.986376</td>\n",
       "      <td>341.477039</td>\n",
       "      <td>195.571836</td>\n",
       "      <td>14.569613</td>\n",
       "      <td>3192.315411</td>\n",
       "      <td>64207.87444</td>\n",
       "      <td>5375.0</td>\n",
       "      <td>1.0</td>\n",
       "      <td>7.1000</td>\n",
       "      <td>N</td>\n",
       "      <td>N</td>\n",
       "      <td>13.61080</td>\n",
       "    </tr>\n",
       "    <tr>\n",
       "      <th>681717</th>\n",
       "      <td>1.089226e+03</td>\n",
       "      <td>0.993959</td>\n",
       "      <td>36.011298</td>\n",
       "      <td>212.410283</td>\n",
       "      <td>319.202385</td>\n",
       "      <td>6.580173</td>\n",
       "      <td>2171.872685</td>\n",
       "      <td>35948.88775</td>\n",
       "      <td>113.0</td>\n",
       "      <td>NaN</td>\n",
       "      <td>9.8038</td>\n",
       "      <td>N</td>\n",
       "      <td>N</td>\n",
       "      <td>5.66640</td>\n",
       "    </tr>\n",
       "  </tbody>\n",
       "</table>\n",
       "</div>"
      ],
      "text/plain": [
       "                   a         e           i          om           w          q  \\\n",
       "98323   1.000000e+10  1.000000   89.826795  300.387873   59.801951   8.828361   \n",
       "179102  1.775174e+03  0.998509  111.471367  155.634263  239.380177   2.646616   \n",
       "411474  1.010385e+03  0.935587   11.658049  300.824689  117.953441  65.081902   \n",
       "495806  1.505441e+03  0.975865   20.655044  336.883214  134.161931  36.333315   \n",
       "542630  1.498998e+03  0.997379  132.401398   42.917771  187.575644   3.928978   \n",
       "624941  1.603443e+03  0.990914   77.986376  341.477039  195.571836  14.569613   \n",
       "681717  1.089226e+03  0.993959   36.011298  212.410283  319.202385   6.580173   \n",
       "\n",
       "                 ad        per_y  data_arc  condition_code        H  neo pha  \\\n",
       "98323           NaN      0.00000     111.0             NaN   9.5996  NaN   N   \n",
       "179102  3547.701804  74794.50147      64.0             NaN  12.9760    N   N   \n",
       "411474  1955.689047  32117.28631    1100.0             4.0   5.5000    N   N   \n",
       "495806  2974.548305  58412.22234    1511.0             4.0   6.1000    N   N   \n",
       "542630  2994.066769  58037.63773     110.0             NaN  13.5320    N   N   \n",
       "624941  3192.315411  64207.87444    5375.0             1.0   7.1000    N   N   \n",
       "681717  2171.872685  35948.88775     113.0             NaN   9.8038    N   N   \n",
       "\n",
       "            moid  \n",
       "98323    8.27620  \n",
       "179102   1.98591  \n",
       "411474  64.11030  \n",
       "495806  35.38290  \n",
       "542630   2.92672  \n",
       "624941  13.61080  \n",
       "681717   5.66640  "
      ]
     },
     "execution_count": 17,
     "metadata": {},
     "output_type": "execute_result"
    }
   ],
   "source": [
    "df2[df2.a>1000]"
   ]
  },
  {
   "cell_type": "code",
   "execution_count": 18,
   "id": "32770544-2d8c-41d4-a650-7e8ccc4fbc1d",
   "metadata": {},
   "outputs": [
    {
     "data": {
      "text/plain": [
       "a                    0\n",
       "e                    0\n",
       "i                    0\n",
       "om                   0\n",
       "w                    0\n",
       "q                    0\n",
       "ad                   5\n",
       "per_y                1\n",
       "data_arc           374\n",
       "condition_code      12\n",
       "H                 2417\n",
       "neo                  5\n",
       "pha                  0\n",
       "moid                 0\n",
       "dtype: int64"
      ]
     },
     "execution_count": 18,
     "metadata": {},
     "output_type": "execute_result"
    }
   ],
   "source": [
    "df2.isna().sum()"
   ]
  },
  {
   "cell_type": "code",
   "execution_count": 19,
   "id": "6170f447-eea4-4821-82cb-9290fcdac3d3",
   "metadata": {},
   "outputs": [
    {
     "name": "stdout",
     "output_type": "stream",
     "text": [
      "\n"
     ]
    }
   ],
   "source": [
    "'''\n",
    "I decided to remove the nan values in Neo,H,coditional_code and data_arc.\n",
    "        Neo: can be estimated by albedo but most of the data in albedo is Nan\n",
    "        H: can be calculated by albedo and diameter but mostly data is Nan\n",
    "        coditional_code & data_arc: i think it cant be calculated using any data\n",
    "'''\n",
    "print()"
   ]
  },
  {
   "cell_type": "code",
   "execution_count": 20,
   "id": "7c4ed67c-16dd-4a23-8fd1-b8ca1ff01a50",
   "metadata": {},
   "outputs": [],
   "source": [
    "df2.drop(98323,inplace=True) # irony is that we removed all the rows inwhich we have modified the \"a\" column #"
   ]
  },
  {
   "cell_type": "code",
   "execution_count": 21,
   "id": "72ca2eed-58a4-4b16-98ed-8c119ecb9990",
   "metadata": {},
   "outputs": [
    {
     "name": "stderr",
     "output_type": "stream",
     "text": [
      "C:\\Users\\harsh\\AppData\\Local\\Temp\\ipykernel_16472\\3788128589.py:2: FutureWarning: Downcasting behavior in `replace` is deprecated and will be removed in a future version. To retain the old behavior, explicitly call `result.infer_objects(copy=False)`. To opt-in to the future behavior, set `pd.set_option('future.no_silent_downcasting', True)`\n",
      "  df3[\"neo\"]=df3[\"neo\"].replace({\"N\":0,\"Y\":1})\n",
      "C:\\Users\\harsh\\AppData\\Local\\Temp\\ipykernel_16472\\3788128589.py:2: SettingWithCopyWarning: \n",
      "A value is trying to be set on a copy of a slice from a DataFrame.\n",
      "Try using .loc[row_indexer,col_indexer] = value instead\n",
      "\n",
      "See the caveats in the documentation: https://pandas.pydata.org/pandas-docs/stable/user_guide/indexing.html#returning-a-view-versus-a-copy\n",
      "  df3[\"neo\"]=df3[\"neo\"].replace({\"N\":0,\"Y\":1})\n",
      "C:\\Users\\harsh\\AppData\\Local\\Temp\\ipykernel_16472\\3788128589.py:3: FutureWarning: Downcasting behavior in `replace` is deprecated and will be removed in a future version. To retain the old behavior, explicitly call `result.infer_objects(copy=False)`. To opt-in to the future behavior, set `pd.set_option('future.no_silent_downcasting', True)`\n",
      "  df3[\"pha\"]=df3[\"pha\"].replace({\"N\":0,\"Y\":1})\n",
      "C:\\Users\\harsh\\AppData\\Local\\Temp\\ipykernel_16472\\3788128589.py:3: SettingWithCopyWarning: \n",
      "A value is trying to be set on a copy of a slice from a DataFrame.\n",
      "Try using .loc[row_indexer,col_indexer] = value instead\n",
      "\n",
      "See the caveats in the documentation: https://pandas.pydata.org/pandas-docs/stable/user_guide/indexing.html#returning-a-view-versus-a-copy\n",
      "  df3[\"pha\"]=df3[\"pha\"].replace({\"N\":0,\"Y\":1})\n"
     ]
    },
    {
     "data": {
      "text/html": [
       "<div>\n",
       "<style scoped>\n",
       "    .dataframe tbody tr th:only-of-type {\n",
       "        vertical-align: middle;\n",
       "    }\n",
       "\n",
       "    .dataframe tbody tr th {\n",
       "        vertical-align: top;\n",
       "    }\n",
       "\n",
       "    .dataframe thead th {\n",
       "        text-align: right;\n",
       "    }\n",
       "</style>\n",
       "<table border=\"1\" class=\"dataframe\">\n",
       "  <thead>\n",
       "    <tr style=\"text-align: right;\">\n",
       "      <th></th>\n",
       "      <th>a</th>\n",
       "      <th>e</th>\n",
       "      <th>i</th>\n",
       "      <th>om</th>\n",
       "      <th>w</th>\n",
       "      <th>q</th>\n",
       "      <th>ad</th>\n",
       "      <th>per_y</th>\n",
       "      <th>data_arc</th>\n",
       "      <th>condition_code</th>\n",
       "      <th>H</th>\n",
       "      <th>neo</th>\n",
       "      <th>pha</th>\n",
       "      <th>moid</th>\n",
       "    </tr>\n",
       "  </thead>\n",
       "  <tbody>\n",
       "    <tr>\n",
       "      <th>0</th>\n",
       "      <td>2.690380</td>\n",
       "      <td>0.153785</td>\n",
       "      <td>15.278304</td>\n",
       "      <td>137.353513</td>\n",
       "      <td>72.385330</td>\n",
       "      <td>2.276641</td>\n",
       "      <td>3.104120</td>\n",
       "      <td>4.412947</td>\n",
       "      <td>37.0</td>\n",
       "      <td>5.0</td>\n",
       "      <td>17.297</td>\n",
       "      <td>0</td>\n",
       "      <td>0</td>\n",
       "      <td>1.327590</td>\n",
       "    </tr>\n",
       "    <tr>\n",
       "      <th>1</th>\n",
       "      <td>2.795391</td>\n",
       "      <td>0.212308</td>\n",
       "      <td>0.862358</td>\n",
       "      <td>2.162248</td>\n",
       "      <td>204.270241</td>\n",
       "      <td>2.201908</td>\n",
       "      <td>3.388875</td>\n",
       "      <td>4.673821</td>\n",
       "      <td>58.0</td>\n",
       "      <td>5.0</td>\n",
       "      <td>17.877</td>\n",
       "      <td>0</td>\n",
       "      <td>0</td>\n",
       "      <td>1.197960</td>\n",
       "    </tr>\n",
       "    <tr>\n",
       "      <th>2</th>\n",
       "      <td>2.246465</td>\n",
       "      <td>0.153411</td>\n",
       "      <td>6.166486</td>\n",
       "      <td>267.926030</td>\n",
       "      <td>72.591975</td>\n",
       "      <td>1.901832</td>\n",
       "      <td>2.591098</td>\n",
       "      <td>3.367113</td>\n",
       "      <td>1036.0</td>\n",
       "      <td>6.0</td>\n",
       "      <td>18.545</td>\n",
       "      <td>0</td>\n",
       "      <td>0</td>\n",
       "      <td>0.902990</td>\n",
       "    </tr>\n",
       "    <tr>\n",
       "      <th>3</th>\n",
       "      <td>2.178503</td>\n",
       "      <td>0.159044</td>\n",
       "      <td>6.605079</td>\n",
       "      <td>22.855426</td>\n",
       "      <td>252.771284</td>\n",
       "      <td>1.832025</td>\n",
       "      <td>2.524981</td>\n",
       "      <td>3.215477</td>\n",
       "      <td>2771.0</td>\n",
       "      <td>1.0</td>\n",
       "      <td>18.700</td>\n",
       "      <td>0</td>\n",
       "      <td>0</td>\n",
       "      <td>0.828794</td>\n",
       "    </tr>\n",
       "    <tr>\n",
       "      <th>4</th>\n",
       "      <td>3.338566</td>\n",
       "      <td>0.126848</td>\n",
       "      <td>7.990340</td>\n",
       "      <td>103.235554</td>\n",
       "      <td>2.303605</td>\n",
       "      <td>2.915075</td>\n",
       "      <td>3.762058</td>\n",
       "      <td>6.100259</td>\n",
       "      <td>2.0</td>\n",
       "      <td>9.0</td>\n",
       "      <td>16.393</td>\n",
       "      <td>0</td>\n",
       "      <td>0</td>\n",
       "      <td>1.930500</td>\n",
       "    </tr>\n",
       "    <tr>\n",
       "      <th>...</th>\n",
       "      <td>...</td>\n",
       "      <td>...</td>\n",
       "      <td>...</td>\n",
       "      <td>...</td>\n",
       "      <td>...</td>\n",
       "      <td>...</td>\n",
       "      <td>...</td>\n",
       "      <td>...</td>\n",
       "      <td>...</td>\n",
       "      <td>...</td>\n",
       "      <td>...</td>\n",
       "      <td>...</td>\n",
       "      <td>...</td>\n",
       "      <td>...</td>\n",
       "    </tr>\n",
       "    <tr>\n",
       "      <th>740939</th>\n",
       "      <td>2.632243</td>\n",
       "      <td>0.323732</td>\n",
       "      <td>29.373469</td>\n",
       "      <td>139.817847</td>\n",
       "      <td>280.693973</td>\n",
       "      <td>1.780100</td>\n",
       "      <td>3.484385</td>\n",
       "      <td>4.270681</td>\n",
       "      <td>5747.0</td>\n",
       "      <td>0.0</td>\n",
       "      <td>15.100</td>\n",
       "      <td>0</td>\n",
       "      <td>0</td>\n",
       "      <td>0.996905</td>\n",
       "    </tr>\n",
       "    <tr>\n",
       "      <th>740940</th>\n",
       "      <td>2.319522</td>\n",
       "      <td>0.118122</td>\n",
       "      <td>5.539529</td>\n",
       "      <td>206.160216</td>\n",
       "      <td>247.178701</td>\n",
       "      <td>2.045536</td>\n",
       "      <td>2.593509</td>\n",
       "      <td>3.532694</td>\n",
       "      <td>5098.0</td>\n",
       "      <td>0.0</td>\n",
       "      <td>17.700</td>\n",
       "      <td>0</td>\n",
       "      <td>0</td>\n",
       "      <td>1.069560</td>\n",
       "    </tr>\n",
       "    <tr>\n",
       "      <th>740941</th>\n",
       "      <td>2.360919</td>\n",
       "      <td>0.171291</td>\n",
       "      <td>9.778080</td>\n",
       "      <td>109.873275</td>\n",
       "      <td>5.609913</td>\n",
       "      <td>1.956516</td>\n",
       "      <td>2.765323</td>\n",
       "      <td>3.627688</td>\n",
       "      <td>7055.0</td>\n",
       "      <td>0.0</td>\n",
       "      <td>15.700</td>\n",
       "      <td>0</td>\n",
       "      <td>0</td>\n",
       "      <td>0.973468</td>\n",
       "    </tr>\n",
       "    <tr>\n",
       "      <th>740942</th>\n",
       "      <td>2.596439</td>\n",
       "      <td>0.323050</td>\n",
       "      <td>5.301735</td>\n",
       "      <td>350.380543</td>\n",
       "      <td>60.659686</td>\n",
       "      <td>1.757660</td>\n",
       "      <td>3.435218</td>\n",
       "      <td>4.183843</td>\n",
       "      <td>6287.0</td>\n",
       "      <td>1.0</td>\n",
       "      <td>18.100</td>\n",
       "      <td>0</td>\n",
       "      <td>0</td>\n",
       "      <td>0.774939</td>\n",
       "    </tr>\n",
       "    <tr>\n",
       "      <th>740943</th>\n",
       "      <td>2.335028</td>\n",
       "      <td>0.122715</td>\n",
       "      <td>1.152707</td>\n",
       "      <td>307.941207</td>\n",
       "      <td>297.604365</td>\n",
       "      <td>2.048485</td>\n",
       "      <td>2.621571</td>\n",
       "      <td>3.568176</td>\n",
       "      <td>7171.0</td>\n",
       "      <td>0.0</td>\n",
       "      <td>16.500</td>\n",
       "      <td>0</td>\n",
       "      <td>0</td>\n",
       "      <td>1.035170</td>\n",
       "    </tr>\n",
       "  </tbody>\n",
       "</table>\n",
       "<p>738152 rows × 14 columns</p>\n",
       "</div>"
      ],
      "text/plain": [
       "               a         e          i          om           w         q  \\\n",
       "0       2.690380  0.153785  15.278304  137.353513   72.385330  2.276641   \n",
       "1       2.795391  0.212308   0.862358    2.162248  204.270241  2.201908   \n",
       "2       2.246465  0.153411   6.166486  267.926030   72.591975  1.901832   \n",
       "3       2.178503  0.159044   6.605079   22.855426  252.771284  1.832025   \n",
       "4       3.338566  0.126848   7.990340  103.235554    2.303605  2.915075   \n",
       "...          ...       ...        ...         ...         ...       ...   \n",
       "740939  2.632243  0.323732  29.373469  139.817847  280.693973  1.780100   \n",
       "740940  2.319522  0.118122   5.539529  206.160216  247.178701  2.045536   \n",
       "740941  2.360919  0.171291   9.778080  109.873275    5.609913  1.956516   \n",
       "740942  2.596439  0.323050   5.301735  350.380543   60.659686  1.757660   \n",
       "740943  2.335028  0.122715   1.152707  307.941207  297.604365  2.048485   \n",
       "\n",
       "              ad     per_y  data_arc  condition_code       H  neo  pha  \\\n",
       "0       3.104120  4.412947      37.0             5.0  17.297    0    0   \n",
       "1       3.388875  4.673821      58.0             5.0  17.877    0    0   \n",
       "2       2.591098  3.367113    1036.0             6.0  18.545    0    0   \n",
       "3       2.524981  3.215477    2771.0             1.0  18.700    0    0   \n",
       "4       3.762058  6.100259       2.0             9.0  16.393    0    0   \n",
       "...          ...       ...       ...             ...     ...  ...  ...   \n",
       "740939  3.484385  4.270681    5747.0             0.0  15.100    0    0   \n",
       "740940  2.593509  3.532694    5098.0             0.0  17.700    0    0   \n",
       "740941  2.765323  3.627688    7055.0             0.0  15.700    0    0   \n",
       "740942  3.435218  4.183843    6287.0             1.0  18.100    0    0   \n",
       "740943  2.621571  3.568176    7171.0             0.0  16.500    0    0   \n",
       "\n",
       "            moid  \n",
       "0       1.327590  \n",
       "1       1.197960  \n",
       "2       0.902990  \n",
       "3       0.828794  \n",
       "4       1.930500  \n",
       "...          ...  \n",
       "740939  0.996905  \n",
       "740940  1.069560  \n",
       "740941  0.973468  \n",
       "740942  0.774939  \n",
       "740943  1.035170  \n",
       "\n",
       "[738152 rows x 14 columns]"
      ]
     },
     "execution_count": 21,
     "metadata": {},
     "output_type": "execute_result"
    }
   ],
   "source": [
    "df3=df2.dropna()\n",
    "df3[\"neo\"]=df3[\"neo\"].replace({\"N\":0,\"Y\":1})\n",
    "df3[\"pha\"]=df3[\"pha\"].replace({\"N\":0,\"Y\":1})\n",
    "df3"
   ]
  },
  {
   "cell_type": "code",
   "execution_count": null,
   "id": "47788318-dab0-444d-9afa-7fa5697a9d8a",
   "metadata": {},
   "outputs": [],
   "source": []
  },
  {
   "cell_type": "markdown",
   "id": "a90161ec-b6f7-48e4-99a6-022662c302ff",
   "metadata": {},
   "source": [
    "Models testing"
   ]
  },
  {
   "cell_type": "code",
   "execution_count": 24,
   "id": "a0ceb0db-d379-400b-a1f7-bc8ce7de3488",
   "metadata": {},
   "outputs": [],
   "source": [
    "from sklearn.linear_model import LogisticRegression\n",
    "from sklearn.tree import DecisionTreeClassifier\n",
    "from sklearn.ensemble import BaggingClassifier\n",
    "from sklearn.svm import SVC\n",
    "from sklearn.ensemble import RandomForestClassifier\n",
    "from sklearn.naive_bayes import GaussianNB\n",
    "from sklearn.model_selection import GridSearchCV\n",
    "from sklearn.model_selection import train_test_split\n",
    "from sklearn.model_selection import cross_val_score\n",
    "from sklearn.naive_bayes import GaussianNB"
   ]
  },
  {
   "cell_type": "markdown",
   "id": "d7334579-c790-4657-abc9-595edbc7a51f",
   "metadata": {},
   "source": [
    "LogisticRegression Score TEST"
   ]
  },
  {
   "cell_type": "code",
   "execution_count": 26,
   "id": "2704c3fd-1ffd-4cbb-8f45-9122a7194bc9",
   "metadata": {
    "scrolled": true
   },
   "outputs": [
    {
     "name": "stderr",
     "output_type": "stream",
     "text": [
      "C:\\Users\\harsh\\anaconda3\\Lib\\site-packages\\sklearn\\linear_model\\_logistic.py:469: ConvergenceWarning: lbfgs failed to converge (status=1):\n",
      "STOP: TOTAL NO. of ITERATIONS REACHED LIMIT.\n",
      "\n",
      "Increase the number of iterations (max_iter) or scale the data as shown in:\n",
      "    https://scikit-learn.org/stable/modules/preprocessing.html\n",
      "Please also refer to the documentation for alternative solver options:\n",
      "    https://scikit-learn.org/stable/modules/linear_model.html#logistic-regression\n",
      "  n_iter_i = _check_optimize_result(\n",
      "C:\\Users\\harsh\\anaconda3\\Lib\\site-packages\\sklearn\\linear_model\\_logistic.py:469: ConvergenceWarning: lbfgs failed to converge (status=1):\n",
      "STOP: TOTAL NO. of ITERATIONS REACHED LIMIT.\n",
      "\n",
      "Increase the number of iterations (max_iter) or scale the data as shown in:\n",
      "    https://scikit-learn.org/stable/modules/preprocessing.html\n",
      "Please also refer to the documentation for alternative solver options:\n",
      "    https://scikit-learn.org/stable/modules/linear_model.html#logistic-regression\n",
      "  n_iter_i = _check_optimize_result(\n",
      "C:\\Users\\harsh\\anaconda3\\Lib\\site-packages\\sklearn\\linear_model\\_logistic.py:469: ConvergenceWarning: lbfgs failed to converge (status=1):\n",
      "STOP: TOTAL NO. of ITERATIONS REACHED LIMIT.\n",
      "\n",
      "Increase the number of iterations (max_iter) or scale the data as shown in:\n",
      "    https://scikit-learn.org/stable/modules/preprocessing.html\n",
      "Please also refer to the documentation for alternative solver options:\n",
      "    https://scikit-learn.org/stable/modules/linear_model.html#logistic-regression\n",
      "  n_iter_i = _check_optimize_result(\n",
      "C:\\Users\\harsh\\anaconda3\\Lib\\site-packages\\sklearn\\linear_model\\_logistic.py:469: ConvergenceWarning: lbfgs failed to converge (status=1):\n",
      "STOP: TOTAL NO. of ITERATIONS REACHED LIMIT.\n",
      "\n",
      "Increase the number of iterations (max_iter) or scale the data as shown in:\n",
      "    https://scikit-learn.org/stable/modules/preprocessing.html\n",
      "Please also refer to the documentation for alternative solver options:\n",
      "    https://scikit-learn.org/stable/modules/linear_model.html#logistic-regression\n",
      "  n_iter_i = _check_optimize_result(\n",
      "C:\\Users\\harsh\\anaconda3\\Lib\\site-packages\\sklearn\\linear_model\\_logistic.py:469: ConvergenceWarning: lbfgs failed to converge (status=1):\n",
      "STOP: TOTAL NO. of ITERATIONS REACHED LIMIT.\n",
      "\n",
      "Increase the number of iterations (max_iter) or scale the data as shown in:\n",
      "    https://scikit-learn.org/stable/modules/preprocessing.html\n",
      "Please also refer to the documentation for alternative solver options:\n",
      "    https://scikit-learn.org/stable/modules/linear_model.html#logistic-regression\n",
      "  n_iter_i = _check_optimize_result(\n"
     ]
    },
    {
     "data": {
      "text/plain": [
       "array([0.99739892, 0.99749375, 0.9975276 , 0.99754115, 0.99750728])"
      ]
     },
     "execution_count": 26,
     "metadata": {},
     "output_type": "execute_result"
    }
   ],
   "source": [
    "lr=cross_val_score(LogisticRegression(),df3.drop(\"pha\",axis=\"columns\"),df3.pha)\n",
    "lr"
   ]
  },
  {
   "cell_type": "code",
   "execution_count": 27,
   "id": "62c8c604-e258-476c-a82e-bbfae672e379",
   "metadata": {},
   "outputs": [
    {
     "data": {
      "text/plain": [
       "0.9974937412549325"
      ]
     },
     "execution_count": 27,
     "metadata": {},
     "output_type": "execute_result"
    }
   ],
   "source": [
    "mean=sum(lr)/len(lr)\n",
    "mean"
   ]
  },
  {
   "cell_type": "markdown",
   "id": "e1be8e25-5381-4f40-b336-e94253c30a2c",
   "metadata": {},
   "source": [
    "DecisionTress Score TEST"
   ]
  },
  {
   "cell_type": "code",
   "execution_count": 29,
   "id": "307f25a7-cdf4-4837-bbdf-d021901b954e",
   "metadata": {},
   "outputs": [
    {
     "data": {
      "text/plain": [
       "array([0.9998984 , 0.99989162, 0.99987807, 0.99986453, 0.99993226])"
      ]
     },
     "execution_count": 29,
     "metadata": {},
     "output_type": "execute_result"
    }
   ],
   "source": [
    "dt=cross_val_score(DecisionTreeClassifier(),df3.drop(\"pha\",axis=\"columns\"),df3.pha)\n",
    "dt"
   ]
  },
  {
   "cell_type": "code",
   "execution_count": 30,
   "id": "218abf20-363d-40b7-a766-c084c44e7889",
   "metadata": {},
   "outputs": [
    {
     "data": {
      "text/plain": [
       "0.9998929759669213"
      ]
     },
     "execution_count": 30,
     "metadata": {},
     "output_type": "execute_result"
    }
   ],
   "source": [
    "mean=sum(dt)/len(dt)\n",
    "mean"
   ]
  },
  {
   "cell_type": "markdown",
   "id": "1a0fbf9f-ea2d-4f55-9f7b-a05c836cbf2f",
   "metadata": {},
   "source": [
    "SVC Score TEST"
   ]
  },
  {
   "cell_type": "code",
   "execution_count": 32,
   "id": "1494d11e-c1b3-4284-9a8e-02d5d21c9fe4",
   "metadata": {},
   "outputs": [
    {
     "data": {
      "text/plain": [
       "array([0.99754117, 0.99754117, 0.99754792, 0.99754792, 0.99754115])"
      ]
     },
     "execution_count": 32,
     "metadata": {},
     "output_type": "execute_result"
    }
   ],
   "source": [
    "svc=cross_val_score(SVC(),df3.drop(\"pha\",axis=\"columns\"),df3.pha)\n",
    "svc"
   ]
  },
  {
   "cell_type": "code",
   "execution_count": 33,
   "id": "f5bb753a-d410-48ad-bb85-e623a255cb0b",
   "metadata": {},
   "outputs": [
    {
     "data": {
      "text/plain": [
       "0.9975438663112733"
      ]
     },
     "execution_count": 33,
     "metadata": {},
     "output_type": "execute_result"
    }
   ],
   "source": [
    "mean=sum(svc)/len(svc)\n",
    "mean"
   ]
  },
  {
   "cell_type": "markdown",
   "id": "e8570ef7-6bf1-4c67-bdb1-c454ddd22d33",
   "metadata": {},
   "source": [
    "Bagging on DecisionTree Score TEST"
   ]
  },
  {
   "cell_type": "code",
   "execution_count": 35,
   "id": "ec1387a5-9575-449e-b3dc-a10aeb31496a",
   "metadata": {},
   "outputs": [
    {
     "data": {
      "text/plain": [
       "array([0.99989162, 0.99993904, 0.99987807, 0.99990517, 0.99995936])"
      ]
     },
     "execution_count": 35,
     "metadata": {},
     "output_type": "execute_result"
    }
   ],
   "source": [
    "bag=cross_val_score(BaggingClassifier(estimator=(DecisionTreeClassifier()),n_estimators=20,max_samples=0.85),df3.drop(\"pha\",axis=\"columns\"),df3.pha)\n",
    "bag"
   ]
  },
  {
   "cell_type": "code",
   "execution_count": 37,
   "id": "b51a5177-10c3-47a2-a3e6-3d2848070e5e",
   "metadata": {},
   "outputs": [
    {
     "data": {
      "text/plain": [
       "0.9999146517230117"
      ]
     },
     "execution_count": 37,
     "metadata": {},
     "output_type": "execute_result"
    }
   ],
   "source": [
    "mean=sum(bag)/len(bag)\n",
    "mean"
   ]
  },
  {
   "cell_type": "markdown",
   "id": "d3db73a2-cd5a-4a7b-9460-5ce2f2a99d70",
   "metadata": {},
   "source": [
    "RandomForest Score TEST est=100"
   ]
  },
  {
   "cell_type": "code",
   "execution_count": 54,
   "id": "9e14dc4d-b0d3-4d8f-ae8e-111e66965917",
   "metadata": {},
   "outputs": [
    {
     "data": {
      "text/plain": [
       "array([0.9998984 , 0.99993226, 0.99989162, 0.99991872, 0.99993904])"
      ]
     },
     "execution_count": 54,
     "metadata": {},
     "output_type": "execute_result"
    }
   ],
   "source": [
    "rf = cross_val_score(RandomForestClassifier(),df3.drop(\"pha\",axis=\"columns\"),df3.pha)\n",
    "rf"
   ]
  },
  {
   "cell_type": "code",
   "execution_count": 56,
   "id": "5a08d291-9f6c-4dfa-81eb-359ccf17d4b9",
   "metadata": {},
   "outputs": [
    {
     "data": {
      "text/plain": [
       "0.9999160064612085"
      ]
     },
     "execution_count": 56,
     "metadata": {},
     "output_type": "execute_result"
    }
   ],
   "source": [
    "mean=sum(rf)/len(rf)\n",
    "mean"
   ]
  },
  {
   "cell_type": "markdown",
   "id": "b6cf2c61-8ca9-40c4-94ed-0a351b67deda",
   "metadata": {},
   "source": [
    "RandomForest Score TEST est=10"
   ]
  },
  {
   "cell_type": "code",
   "execution_count": 58,
   "id": "3a9fd75b-e210-4b8a-9e8e-9b5c89a1d5c4",
   "metadata": {},
   "outputs": [
    {
     "data": {
      "text/plain": [
       "array([0.99987807, 0.99991872, 0.99990517, 0.9998713 , 0.99993904])"
      ]
     },
     "execution_count": 58,
     "metadata": {},
     "output_type": "execute_result"
    }
   ],
   "source": [
    "rf1=cross_val_score(RandomForestClassifier(n_estimators=10),df3.drop(\"pha\",axis=\"columns\"),df3.pha)\n",
    "rf1"
   ]
  },
  {
   "cell_type": "code",
   "execution_count": 59,
   "id": "3415a6e7-dc38-44ba-b948-8a77a11e6f19",
   "metadata": {},
   "outputs": [
    {
     "data": {
      "text/plain": [
       "0.9999024591251228"
      ]
     },
     "execution_count": 59,
     "metadata": {},
     "output_type": "execute_result"
    }
   ],
   "source": [
    "mean=sum(rf1)/len(rf1)\n",
    "mean"
   ]
  },
  {
   "cell_type": "markdown",
   "id": "ef23a462-8b65-4eb0-8f59-391b760c8bfe",
   "metadata": {},
   "source": [
    "RandomForest Score TEST est=50"
   ]
  },
  {
   "cell_type": "code",
   "execution_count": 61,
   "id": "036f5c16-07e7-4db0-b3a2-8e685f17df44",
   "metadata": {},
   "outputs": [
    {
     "data": {
      "text/plain": [
       "array([0.9998984 , 0.99993226, 0.99989162, 0.99991194, 0.99994581])"
      ]
     },
     "execution_count": 61,
     "metadata": {},
     "output_type": "execute_result"
    }
   ],
   "source": [
    "rf2=cross_val_score(RandomForestClassifier(n_estimators=50),df3.drop(\"pha\",axis=\"columns\"),df3.pha)\n",
    "rf2"
   ]
  },
  {
   "cell_type": "code",
   "execution_count": 62,
   "id": "80026b14-6825-4306-bb0e-a927ed9ea9a3",
   "metadata": {},
   "outputs": [
    {
     "data": {
      "text/plain": [
       "0.9999160064612086"
      ]
     },
     "execution_count": 62,
     "metadata": {},
     "output_type": "execute_result"
    }
   ],
   "source": [
    "mean=sum(rf2)/len(rf2)\n",
    "mean"
   ]
  },
  {
   "cell_type": "markdown",
   "id": "ed933350-0905-412f-8619-0c5a7944ef66",
   "metadata": {},
   "source": [
    "Gaussian NB Score TEST"
   ]
  },
  {
   "cell_type": "code",
   "execution_count": 64,
   "id": "30d78d9b-fbe5-4cf2-ae33-630dba4e9707",
   "metadata": {},
   "outputs": [
    {
     "data": {
      "text/plain": [
       "array([0.97629902, 0.97621773, 0.97650884, 0.97642078, 0.97738265])"
      ]
     },
     "execution_count": 64,
     "metadata": {},
     "output_type": "execute_result"
    }
   ],
   "source": [
    "gnb=cross_val_score(GaussianNB(),df3.drop(\"pha\",axis=\"columns\"),df3.pha)\n",
    "gnb"
   ]
  },
  {
   "cell_type": "code",
   "execution_count": 65,
   "id": "a61543b9-7b96-40f0-a25f-de948a75375a",
   "metadata": {},
   "outputs": [
    {
     "data": {
      "text/plain": [
       "0.9765658029983773"
      ]
     },
     "execution_count": 65,
     "metadata": {},
     "output_type": "execute_result"
    }
   ],
   "source": [
    "mean=sum(gnb)/len(gnb)\n",
    "mean"
   ]
  },
  {
   "cell_type": "code",
   "execution_count": 180,
   "id": "162013ff-68c4-423a-acc1-2a5cca70cd38",
   "metadata": {},
   "outputs": [
    {
     "name": "stdout",
     "output_type": "stream",
     "text": [
      "\n"
     ]
    }
   ],
   "source": [
    "'''This was supposed to be executed but because of my nvidia gpu detection error i dont have enough computational power '''\n",
    "\n",
    "\"\"\"\n",
    "model_params={\n",
    "    \"lr\":{\n",
    "        \"model\":LogisticRegression(),\n",
    "        \"params\":{\n",
    "            \"C\":[0.5,0.8,1,1.5]}},\n",
    "    \"dtc\":{\n",
    "        \"model\":DecisionTreeClassifier(),\n",
    "        \"params\":{\n",
    "            \"criterion\":[\"gini\",\"entropy\",\"log_loss\"]}},\n",
    "    \"svm\":{\n",
    "        \"model\":SVC(),\n",
    "        \"params\":{\n",
    "            \"C\":[0.5,0.8,1,1.5],\n",
    "            \"kernel\":[\"rbf\",\"linear\",\"poly\"]}},\n",
    "    \"rfc\":{\n",
    "        \"model\":RandomForestClassifier(),\n",
    "        \"params\":{\n",
    "            \"criterion\":[\"entropy\",\"gini\"],\n",
    "            \"n_estimators\":[55,75,100,115]}},\n",
    "    'gnb':{\n",
    "        'model':GaussianNB(),\n",
    "        'params':{}}}\n",
    "scores = {}\n",
    "for modelname,details in model_params.items():\n",
    "    clf = GridSearchCV(details[\"model\"],details[\"params\"],cv=5)\n",
    "    clf.fit(df3.drop(\"pha\",axis=\"columns\"),df3.pha)\n",
    "    scores[modelname] = [clf.best_score_,clf.best_params_]\n",
    "    \n",
    "scores \n",
    "\"\"\"\n",
    "print()"
   ]
  },
  {
   "cell_type": "code",
   "execution_count": null,
   "id": "2235a013-d589-479b-a946-52b0c33d113a",
   "metadata": {},
   "outputs": [],
   "source": []
  },
  {
   "cell_type": "markdown",
   "id": "f9d0a711-e18e-4e55-afb1-ad426dc2d9ec",
   "metadata": {},
   "source": [
    "Model Training"
   ]
  },
  {
   "cell_type": "code",
   "execution_count": 172,
   "id": "ed179165-86a0-4015-8a11-9568e394d356",
   "metadata": {},
   "outputs": [],
   "source": [
    "X_train,X_test,y_train,y_test=train_test_split(df3.drop(\"pha\",axis=\"columns\"),df3.pha,random_state=1)"
   ]
  },
  {
   "cell_type": "code",
   "execution_count": 250,
   "id": "add1a39f-9200-4e84-a174-f6d22f80ea85",
   "metadata": {},
   "outputs": [
    {
     "name": "stdout",
     "output_type": "stream",
     "text": [
      "(553614, 13)\n",
      "0.75\n",
      "(184538, 13)\n",
      "0.25\n"
     ]
    }
   ],
   "source": [
    "print(X_train.shape)\n",
    "print(553614/738152)\n",
    "print(X_test.shape)\n",
    "print(184538/738152)"
   ]
  },
  {
   "cell_type": "code",
   "execution_count": 174,
   "id": "408a9b8a-fb7e-4839-bb70-94d331c78abb",
   "metadata": {},
   "outputs": [
    {
     "data": {
      "text/plain": [
       "0.9999241348665315"
      ]
     },
     "execution_count": 174,
     "metadata": {},
     "output_type": "execute_result"
    }
   ],
   "source": [
    "model=RandomForestClassifier()\n",
    "model.fit(X_train,y_train)\n",
    "model.score(X_test,y_test)"
   ]
  },
  {
   "cell_type": "code",
   "execution_count": 175,
   "id": "5a71cdea-f333-4614-89ff-2c984878b8d7",
   "metadata": {},
   "outputs": [
    {
     "data": {
      "text/plain": [
       "0.9999349727427413"
      ]
     },
     "execution_count": 175,
     "metadata": {},
     "output_type": "execute_result"
    }
   ],
   "source": [
    "model2=BaggingClassifier(estimator=(DecisionTreeClassifier()),n_estimators=100,max_samples=0.85)\n",
    "model2.fit(X_train,y_train)\n",
    "model2.score(X_test,y_test)"
   ]
  },
  {
   "cell_type": "code",
   "execution_count": 176,
   "id": "7067709d-6b40-42e2-8b9b-213b010d1ada",
   "metadata": {},
   "outputs": [
    {
     "data": {
      "text/plain": [
       "0.9999295538046364"
      ]
     },
     "execution_count": 176,
     "metadata": {},
     "output_type": "execute_result"
    }
   ],
   "source": [
    "model3=BaggingClassifier(estimator=(DecisionTreeClassifier()),n_estimators=150,max_samples=0.85)\n",
    "model3.fit(X_train,y_train)\n",
    "model3.score(X_test,y_test)"
   ]
  },
  {
   "cell_type": "code",
   "execution_count": 74,
   "id": "dd0dd842-6f8d-4110-b3c4-068baf3a2ada",
   "metadata": {},
   "outputs": [
    {
     "data": {
      "text/plain": [
       "0.9999295538046364"
      ]
     },
     "execution_count": 74,
     "metadata": {},
     "output_type": "execute_result"
    }
   ],
   "source": [
    "model4=BaggingClassifier(estimator=(DecisionTreeClassifier()),n_estimators=50,max_samples=0.85)\n",
    "model4.fit(X_train,y_train)\n",
    "model4.score(X_test,y_test)"
   ]
  },
  {
   "cell_type": "code",
   "execution_count": 75,
   "id": "7ed390a8-e821-42c2-8de6-49024159f0fe",
   "metadata": {},
   "outputs": [
    {
     "data": {
      "text/plain": [
       "0.9999078780522169"
      ]
     },
     "execution_count": 75,
     "metadata": {},
     "output_type": "execute_result"
    }
   ],
   "source": [
    "model4=BaggingClassifier(estimator=(DecisionTreeClassifier()),n_estimators=10,max_samples=0.85)\n",
    "model4.fit(X_train,y_train)\n",
    "model4.score(X_test,y_test)"
   ]
  },
  {
   "cell_type": "code",
   "execution_count": 76,
   "id": "018baff0-f0a6-4719-94af-0ede37e55787",
   "metadata": {},
   "outputs": [
    {
     "data": {
      "text/plain": [
       "0.9999241348665315"
      ]
     },
     "execution_count": 76,
     "metadata": {},
     "output_type": "execute_result"
    }
   ],
   "source": [
    "model4=BaggingClassifier(estimator=(DecisionTreeClassifier()),n_estimators=75,max_samples=0.85)\n",
    "model4.fit(X_train,y_train)\n",
    "model4.score(X_test,y_test)"
   ]
  },
  {
   "cell_type": "code",
   "execution_count": 77,
   "id": "06b6c862-cf55-4921-8b37-3e76865179e8",
   "metadata": {},
   "outputs": [
    {
     "data": {
      "text/plain": [
       "0.9999295538046364"
      ]
     },
     "execution_count": 77,
     "metadata": {},
     "output_type": "execute_result"
    }
   ],
   "source": [
    "model4=BaggingClassifier(estimator=(DecisionTreeClassifier()),n_estimators=125,max_samples=0.85)\n",
    "model4.fit(X_train,y_train)\n",
    "model4.score(X_test,y_test)"
   ]
  },
  {
   "cell_type": "code",
   "execution_count": 242,
   "id": "26f60506-c17c-4fe8-a60c-ba40817e5701",
   "metadata": {},
   "outputs": [],
   "source": [
    "# THE BEST MODEL SCORE IS WITH BaggingOnDecisionTree with 99.9935% in model2"
   ]
  },
  {
   "cell_type": "markdown",
   "id": "230ee7ec-cbd4-4ec1-9a33-38d685d01313",
   "metadata": {},
   "source": [
    "Now Checking the TEST DATASET "
   ]
  },
  {
   "cell_type": "code",
   "execution_count": 80,
   "id": "b34aab6a-8c3e-4067-b7ec-ccfd4c0d7f59",
   "metadata": {
    "scrolled": true
   },
   "outputs": [
    {
     "data": {
      "text/html": [
       "<div>\n",
       "<style scoped>\n",
       "    .dataframe tbody tr th:only-of-type {\n",
       "        vertical-align: middle;\n",
       "    }\n",
       "\n",
       "    .dataframe tbody tr th {\n",
       "        vertical-align: top;\n",
       "    }\n",
       "\n",
       "    .dataframe thead th {\n",
       "        text-align: right;\n",
       "    }\n",
       "</style>\n",
       "<table border=\"1\" class=\"dataframe\">\n",
       "  <thead>\n",
       "    <tr style=\"text-align: right;\">\n",
       "      <th></th>\n",
       "      <th>name</th>\n",
       "      <th>a</th>\n",
       "      <th>e</th>\n",
       "      <th>i</th>\n",
       "      <th>om</th>\n",
       "      <th>w</th>\n",
       "      <th>q</th>\n",
       "      <th>ad</th>\n",
       "      <th>per_y</th>\n",
       "      <th>data_arc</th>\n",
       "      <th>condition_code</th>\n",
       "      <th>H</th>\n",
       "      <th>neo</th>\n",
       "      <th>diameter</th>\n",
       "      <th>albedo</th>\n",
       "      <th>rot_per</th>\n",
       "      <th>moid</th>\n",
       "    </tr>\n",
       "  </thead>\n",
       "  <tbody>\n",
       "    <tr>\n",
       "      <th>0</th>\n",
       "      <td>Asteroid 363864</td>\n",
       "      <td>2.676011</td>\n",
       "      <td>0.359855</td>\n",
       "      <td>12.206682</td>\n",
       "      <td>235.192573</td>\n",
       "      <td>125.181864</td>\n",
       "      <td>1.713035</td>\n",
       "      <td>3.638986</td>\n",
       "      <td>4.377639</td>\n",
       "      <td>5384.0</td>\n",
       "      <td>0.0</td>\n",
       "      <td>15.9</td>\n",
       "      <td>N</td>\n",
       "      <td>NaN</td>\n",
       "      <td>NaN</td>\n",
       "      <td>NaN</td>\n",
       "      <td>0.743745</td>\n",
       "    </tr>\n",
       "    <tr>\n",
       "      <th>1</th>\n",
       "      <td>Asteroid 306812</td>\n",
       "      <td>2.298822</td>\n",
       "      <td>0.141940</td>\n",
       "      <td>6.620591</td>\n",
       "      <td>348.452277</td>\n",
       "      <td>1.690117</td>\n",
       "      <td>1.972526</td>\n",
       "      <td>2.625118</td>\n",
       "      <td>3.485509</td>\n",
       "      <td>5695.0</td>\n",
       "      <td>0.0</td>\n",
       "      <td>17.1</td>\n",
       "      <td>N</td>\n",
       "      <td>NaN</td>\n",
       "      <td>NaN</td>\n",
       "      <td>NaN</td>\n",
       "      <td>0.965473</td>\n",
       "    </tr>\n",
       "    <tr>\n",
       "      <th>2</th>\n",
       "      <td>Asteroid 436087</td>\n",
       "      <td>2.428624</td>\n",
       "      <td>0.080591</td>\n",
       "      <td>6.135246</td>\n",
       "      <td>349.291379</td>\n",
       "      <td>119.522708</td>\n",
       "      <td>2.232898</td>\n",
       "      <td>2.624350</td>\n",
       "      <td>3.784850</td>\n",
       "      <td>5024.0</td>\n",
       "      <td>0.0</td>\n",
       "      <td>17.8</td>\n",
       "      <td>N</td>\n",
       "      <td>NaN</td>\n",
       "      <td>NaN</td>\n",
       "      <td>NaN</td>\n",
       "      <td>1.257100</td>\n",
       "    </tr>\n",
       "    <tr>\n",
       "      <th>3</th>\n",
       "      <td>Asteroid 341907</td>\n",
       "      <td>2.310890</td>\n",
       "      <td>0.178665</td>\n",
       "      <td>5.378807</td>\n",
       "      <td>109.545249</td>\n",
       "      <td>161.080608</td>\n",
       "      <td>1.898014</td>\n",
       "      <td>2.723766</td>\n",
       "      <td>3.512991</td>\n",
       "      <td>4618.0</td>\n",
       "      <td>0.0</td>\n",
       "      <td>17.3</td>\n",
       "      <td>N</td>\n",
       "      <td>NaN</td>\n",
       "      <td>NaN</td>\n",
       "      <td>NaN</td>\n",
       "      <td>0.882244</td>\n",
       "    </tr>\n",
       "    <tr>\n",
       "      <th>4</th>\n",
       "      <td>Asteroid 536770</td>\n",
       "      <td>2.412192</td>\n",
       "      <td>0.019620</td>\n",
       "      <td>8.068281</td>\n",
       "      <td>233.547566</td>\n",
       "      <td>308.687921</td>\n",
       "      <td>2.364865</td>\n",
       "      <td>2.459520</td>\n",
       "      <td>3.746502</td>\n",
       "      <td>2012.0</td>\n",
       "      <td>0.0</td>\n",
       "      <td>18.3</td>\n",
       "      <td>N</td>\n",
       "      <td>NaN</td>\n",
       "      <td>NaN</td>\n",
       "      <td>NaN</td>\n",
       "      <td>1.367720</td>\n",
       "    </tr>\n",
       "    <tr>\n",
       "      <th>...</th>\n",
       "      <td>...</td>\n",
       "      <td>...</td>\n",
       "      <td>...</td>\n",
       "      <td>...</td>\n",
       "      <td>...</td>\n",
       "      <td>...</td>\n",
       "      <td>...</td>\n",
       "      <td>...</td>\n",
       "      <td>...</td>\n",
       "      <td>...</td>\n",
       "      <td>...</td>\n",
       "      <td>...</td>\n",
       "      <td>...</td>\n",
       "      <td>...</td>\n",
       "      <td>...</td>\n",
       "      <td>...</td>\n",
       "      <td>...</td>\n",
       "    </tr>\n",
       "    <tr>\n",
       "      <th>82323</th>\n",
       "      <td>Asteroid 832415</td>\n",
       "      <td>0.882551</td>\n",
       "      <td>0.302787</td>\n",
       "      <td>7.204506</td>\n",
       "      <td>219.109541</td>\n",
       "      <td>313.315030</td>\n",
       "      <td>0.615326</td>\n",
       "      <td>1.149776</td>\n",
       "      <td>0.829121</td>\n",
       "      <td>20.0</td>\n",
       "      <td>6.0</td>\n",
       "      <td>24.1</td>\n",
       "      <td>Y</td>\n",
       "      <td>NaN</td>\n",
       "      <td>NaN</td>\n",
       "      <td>NaN</td>\n",
       "      <td>0.008108</td>\n",
       "    </tr>\n",
       "    <tr>\n",
       "      <th>82324</th>\n",
       "      <td>Asteroid 816247</td>\n",
       "      <td>2.210520</td>\n",
       "      <td>0.525633</td>\n",
       "      <td>19.284134</td>\n",
       "      <td>25.484162</td>\n",
       "      <td>148.174492</td>\n",
       "      <td>1.048597</td>\n",
       "      <td>3.372443</td>\n",
       "      <td>3.286623</td>\n",
       "      <td>9.0</td>\n",
       "      <td>8.0</td>\n",
       "      <td>23.8</td>\n",
       "      <td>Y</td>\n",
       "      <td>NaN</td>\n",
       "      <td>NaN</td>\n",
       "      <td>NaN</td>\n",
       "      <td>0.091472</td>\n",
       "    </tr>\n",
       "    <tr>\n",
       "      <th>82325</th>\n",
       "      <td>Asteroid 639683</td>\n",
       "      <td>2.323886</td>\n",
       "      <td>0.188192</td>\n",
       "      <td>5.350964</td>\n",
       "      <td>281.298880</td>\n",
       "      <td>121.349767</td>\n",
       "      <td>1.886550</td>\n",
       "      <td>2.761223</td>\n",
       "      <td>3.542669</td>\n",
       "      <td>3607.0</td>\n",
       "      <td>1.0</td>\n",
       "      <td>18.2</td>\n",
       "      <td>N</td>\n",
       "      <td>NaN</td>\n",
       "      <td>NaN</td>\n",
       "      <td>NaN</td>\n",
       "      <td>0.901599</td>\n",
       "    </tr>\n",
       "    <tr>\n",
       "      <th>82326</th>\n",
       "      <td>Asteroid 365569</td>\n",
       "      <td>2.742737</td>\n",
       "      <td>0.039087</td>\n",
       "      <td>7.453771</td>\n",
       "      <td>192.097582</td>\n",
       "      <td>76.969350</td>\n",
       "      <td>2.635531</td>\n",
       "      <td>2.849943</td>\n",
       "      <td>4.542390</td>\n",
       "      <td>7046.0</td>\n",
       "      <td>0.0</td>\n",
       "      <td>17.2</td>\n",
       "      <td>N</td>\n",
       "      <td>NaN</td>\n",
       "      <td>NaN</td>\n",
       "      <td>NaN</td>\n",
       "      <td>1.632210</td>\n",
       "    </tr>\n",
       "    <tr>\n",
       "      <th>82327</th>\n",
       "      <td>Asteroid 31219</td>\n",
       "      <td>2.685351</td>\n",
       "      <td>0.198573</td>\n",
       "      <td>13.213330</td>\n",
       "      <td>351.128493</td>\n",
       "      <td>214.942505</td>\n",
       "      <td>2.152112</td>\n",
       "      <td>3.218591</td>\n",
       "      <td>4.400580</td>\n",
       "      <td>8776.0</td>\n",
       "      <td>0.0</td>\n",
       "      <td>14.3</td>\n",
       "      <td>N</td>\n",
       "      <td>NaN</td>\n",
       "      <td>NaN</td>\n",
       "      <td>NaN</td>\n",
       "      <td>1.163750</td>\n",
       "    </tr>\n",
       "  </tbody>\n",
       "</table>\n",
       "<p>82328 rows × 17 columns</p>\n",
       "</div>"
      ],
      "text/plain": [
       "                  name         a         e          i          om           w  \\\n",
       "0      Asteroid 363864  2.676011  0.359855  12.206682  235.192573  125.181864   \n",
       "1      Asteroid 306812  2.298822  0.141940   6.620591  348.452277    1.690117   \n",
       "2      Asteroid 436087  2.428624  0.080591   6.135246  349.291379  119.522708   \n",
       "3      Asteroid 341907  2.310890  0.178665   5.378807  109.545249  161.080608   \n",
       "4      Asteroid 536770  2.412192  0.019620   8.068281  233.547566  308.687921   \n",
       "...                ...       ...       ...        ...         ...         ...   \n",
       "82323  Asteroid 832415  0.882551  0.302787   7.204506  219.109541  313.315030   \n",
       "82324  Asteroid 816247  2.210520  0.525633  19.284134   25.484162  148.174492   \n",
       "82325  Asteroid 639683  2.323886  0.188192   5.350964  281.298880  121.349767   \n",
       "82326  Asteroid 365569  2.742737  0.039087   7.453771  192.097582   76.969350   \n",
       "82327   Asteroid 31219  2.685351  0.198573  13.213330  351.128493  214.942505   \n",
       "\n",
       "              q        ad     per_y  data_arc  condition_code     H neo  \\\n",
       "0      1.713035  3.638986  4.377639    5384.0             0.0  15.9   N   \n",
       "1      1.972526  2.625118  3.485509    5695.0             0.0  17.1   N   \n",
       "2      2.232898  2.624350  3.784850    5024.0             0.0  17.8   N   \n",
       "3      1.898014  2.723766  3.512991    4618.0             0.0  17.3   N   \n",
       "4      2.364865  2.459520  3.746502    2012.0             0.0  18.3   N   \n",
       "...         ...       ...       ...       ...             ...   ...  ..   \n",
       "82323  0.615326  1.149776  0.829121      20.0             6.0  24.1   Y   \n",
       "82324  1.048597  3.372443  3.286623       9.0             8.0  23.8   Y   \n",
       "82325  1.886550  2.761223  3.542669    3607.0             1.0  18.2   N   \n",
       "82326  2.635531  2.849943  4.542390    7046.0             0.0  17.2   N   \n",
       "82327  2.152112  3.218591  4.400580    8776.0             0.0  14.3   N   \n",
       "\n",
       "       diameter  albedo  rot_per      moid  \n",
       "0           NaN     NaN      NaN  0.743745  \n",
       "1           NaN     NaN      NaN  0.965473  \n",
       "2           NaN     NaN      NaN  1.257100  \n",
       "3           NaN     NaN      NaN  0.882244  \n",
       "4           NaN     NaN      NaN  1.367720  \n",
       "...         ...     ...      ...       ...  \n",
       "82323       NaN     NaN      NaN  0.008108  \n",
       "82324       NaN     NaN      NaN  0.091472  \n",
       "82325       NaN     NaN      NaN  0.901599  \n",
       "82326       NaN     NaN      NaN  1.632210  \n",
       "82327       NaN     NaN      NaN  1.163750  \n",
       "\n",
       "[82328 rows x 17 columns]"
      ]
     },
     "execution_count": 80,
     "metadata": {},
     "output_type": "execute_result"
    }
   ],
   "source": [
    "DF"
   ]
  },
  {
   "cell_type": "code",
   "execution_count": 81,
   "id": "adf82ce0-6763-46c3-8680-9c792120e6c7",
   "metadata": {},
   "outputs": [
    {
     "data": {
      "text/plain": [
       "name                  0\n",
       "a                     1\n",
       "e                     0\n",
       "i                     0\n",
       "om                    0\n",
       "w                     0\n",
       "q                     0\n",
       "ad                    1\n",
       "per_y                 0\n",
       "data_arc             36\n",
       "condition_code        1\n",
       "H                   271\n",
       "neo                   1\n",
       "diameter          68667\n",
       "albedo            68802\n",
       "rot_per           80497\n",
       "moid                  0\n",
       "dtype: int64"
      ]
     },
     "execution_count": 81,
     "metadata": {},
     "output_type": "execute_result"
    }
   ],
   "source": [
    "DF.isna().sum()"
   ]
  },
  {
   "cell_type": "code",
   "execution_count": 82,
   "id": "322b2426-2deb-43a8-a687-b5054b899cf8",
   "metadata": {},
   "outputs": [],
   "source": [
    "#Filling a By calculating the a value q/(1-e)"
   ]
  },
  {
   "cell_type": "code",
   "execution_count": 83,
   "id": "ede971a1-fe9e-40a2-9e40-d6f0e6fa6a08",
   "metadata": {},
   "outputs": [
    {
     "data": {
      "text/plain": [
       "array([63771], dtype=int64)"
      ]
     },
     "execution_count": 83,
     "metadata": {},
     "output_type": "execute_result"
    }
   ],
   "source": [
    "DF[DF[\"a\"].isna()].index.values"
   ]
  },
  {
   "cell_type": "code",
   "execution_count": 84,
   "id": "62381251-b088-4fbc-9c5f-1347b6b1d3ba",
   "metadata": {},
   "outputs": [],
   "source": [
    "DF.loc[DF[DF[\"a\"].isna()].index.values,\"a\"] = DF[DF[\"a\"].isna()].q/(1-DF[DF[\"a\"].isna()].e)"
   ]
  },
  {
   "cell_type": "code",
   "execution_count": 85,
   "id": "254f4516-3e7f-47e7-b7ec-b32f5cb01296",
   "metadata": {},
   "outputs": [],
   "source": [
    "#Filling ad By calculating a(1+e)"
   ]
  },
  {
   "cell_type": "code",
   "execution_count": 86,
   "id": "090f2c9a-6126-48e0-a07a-930131cac05a",
   "metadata": {
    "scrolled": true
   },
   "outputs": [],
   "source": [
    "DF.loc[DF[DF.ad.isna()].index.values,\"ad\"] = DF[DF.ad.isna()].a *(DF[DF.ad.isna()].e + 1)"
   ]
  },
  {
   "cell_type": "code",
   "execution_count": 87,
   "id": "4ba00fc9-fabf-435c-9ead-dced1a2c5105",
   "metadata": {},
   "outputs": [],
   "source": [
    "# Filling data_arc By mean"
   ]
  },
  {
   "cell_type": "code",
   "execution_count": 88,
   "id": "8c628588-b0b1-487b-be90-17d2bbc15c73",
   "metadata": {},
   "outputs": [],
   "source": [
    "data_arc_nan_index = DF[DF.data_arc.isna()].index.values"
   ]
  },
  {
   "cell_type": "code",
   "execution_count": 89,
   "id": "49571ba9-cbe9-4eb6-8bda-96e4b2cbc1dc",
   "metadata": {
    "scrolled": true
   },
   "outputs": [
    {
     "data": {
      "text/html": [
       "<div>\n",
       "<style scoped>\n",
       "    .dataframe tbody tr th:only-of-type {\n",
       "        vertical-align: middle;\n",
       "    }\n",
       "\n",
       "    .dataframe tbody tr th {\n",
       "        vertical-align: top;\n",
       "    }\n",
       "\n",
       "    .dataframe thead th {\n",
       "        text-align: right;\n",
       "    }\n",
       "</style>\n",
       "<table border=\"1\" class=\"dataframe\">\n",
       "  <thead>\n",
       "    <tr style=\"text-align: right;\">\n",
       "      <th></th>\n",
       "      <th>name</th>\n",
       "      <th>a</th>\n",
       "      <th>e</th>\n",
       "      <th>i</th>\n",
       "      <th>om</th>\n",
       "      <th>w</th>\n",
       "      <th>q</th>\n",
       "      <th>ad</th>\n",
       "      <th>per_y</th>\n",
       "      <th>condition_code</th>\n",
       "      <th>H</th>\n",
       "      <th>neo</th>\n",
       "      <th>diameter</th>\n",
       "      <th>albedo</th>\n",
       "      <th>rot_per</th>\n",
       "      <th>moid</th>\n",
       "    </tr>\n",
       "    <tr>\n",
       "      <th>data_arc</th>\n",
       "      <th></th>\n",
       "      <th></th>\n",
       "      <th></th>\n",
       "      <th></th>\n",
       "      <th></th>\n",
       "      <th></th>\n",
       "      <th></th>\n",
       "      <th></th>\n",
       "      <th></th>\n",
       "      <th></th>\n",
       "      <th></th>\n",
       "      <th></th>\n",
       "      <th></th>\n",
       "      <th></th>\n",
       "      <th></th>\n",
       "      <th></th>\n",
       "    </tr>\n",
       "  </thead>\n",
       "  <tbody>\n",
       "    <tr>\n",
       "      <th>1.0</th>\n",
       "      <td>795</td>\n",
       "      <td>795</td>\n",
       "      <td>795</td>\n",
       "      <td>795</td>\n",
       "      <td>795</td>\n",
       "      <td>795</td>\n",
       "      <td>795</td>\n",
       "      <td>795</td>\n",
       "      <td>795</td>\n",
       "      <td>795</td>\n",
       "      <td>649</td>\n",
       "      <td>795</td>\n",
       "      <td>432</td>\n",
       "      <td>403</td>\n",
       "      <td>0</td>\n",
       "      <td>795</td>\n",
       "    </tr>\n",
       "    <tr>\n",
       "      <th>2.0</th>\n",
       "      <td>948</td>\n",
       "      <td>948</td>\n",
       "      <td>948</td>\n",
       "      <td>948</td>\n",
       "      <td>948</td>\n",
       "      <td>948</td>\n",
       "      <td>948</td>\n",
       "      <td>948</td>\n",
       "      <td>948</td>\n",
       "      <td>948</td>\n",
       "      <td>858</td>\n",
       "      <td>948</td>\n",
       "      <td>178</td>\n",
       "      <td>165</td>\n",
       "      <td>0</td>\n",
       "      <td>948</td>\n",
       "    </tr>\n",
       "    <tr>\n",
       "      <th>3.0</th>\n",
       "      <td>598</td>\n",
       "      <td>598</td>\n",
       "      <td>598</td>\n",
       "      <td>598</td>\n",
       "      <td>598</td>\n",
       "      <td>598</td>\n",
       "      <td>598</td>\n",
       "      <td>598</td>\n",
       "      <td>598</td>\n",
       "      <td>598</td>\n",
       "      <td>597</td>\n",
       "      <td>598</td>\n",
       "      <td>3</td>\n",
       "      <td>2</td>\n",
       "      <td>1</td>\n",
       "      <td>598</td>\n",
       "    </tr>\n",
       "    <tr>\n",
       "      <th>4.0</th>\n",
       "      <td>416</td>\n",
       "      <td>416</td>\n",
       "      <td>416</td>\n",
       "      <td>416</td>\n",
       "      <td>416</td>\n",
       "      <td>416</td>\n",
       "      <td>416</td>\n",
       "      <td>416</td>\n",
       "      <td>416</td>\n",
       "      <td>416</td>\n",
       "      <td>408</td>\n",
       "      <td>416</td>\n",
       "      <td>12</td>\n",
       "      <td>12</td>\n",
       "      <td>0</td>\n",
       "      <td>416</td>\n",
       "    </tr>\n",
       "    <tr>\n",
       "      <th>5.0</th>\n",
       "      <td>424</td>\n",
       "      <td>424</td>\n",
       "      <td>424</td>\n",
       "      <td>424</td>\n",
       "      <td>424</td>\n",
       "      <td>424</td>\n",
       "      <td>424</td>\n",
       "      <td>424</td>\n",
       "      <td>424</td>\n",
       "      <td>424</td>\n",
       "      <td>415</td>\n",
       "      <td>424</td>\n",
       "      <td>8</td>\n",
       "      <td>8</td>\n",
       "      <td>1</td>\n",
       "      <td>424</td>\n",
       "    </tr>\n",
       "    <tr>\n",
       "      <th>...</th>\n",
       "      <td>...</td>\n",
       "      <td>...</td>\n",
       "      <td>...</td>\n",
       "      <td>...</td>\n",
       "      <td>...</td>\n",
       "      <td>...</td>\n",
       "      <td>...</td>\n",
       "      <td>...</td>\n",
       "      <td>...</td>\n",
       "      <td>...</td>\n",
       "      <td>...</td>\n",
       "      <td>...</td>\n",
       "      <td>...</td>\n",
       "      <td>...</td>\n",
       "      <td>...</td>\n",
       "      <td>...</td>\n",
       "    </tr>\n",
       "    <tr>\n",
       "      <th>56904.0</th>\n",
       "      <td>1</td>\n",
       "      <td>1</td>\n",
       "      <td>1</td>\n",
       "      <td>1</td>\n",
       "      <td>1</td>\n",
       "      <td>1</td>\n",
       "      <td>1</td>\n",
       "      <td>1</td>\n",
       "      <td>1</td>\n",
       "      <td>1</td>\n",
       "      <td>1</td>\n",
       "      <td>1</td>\n",
       "      <td>1</td>\n",
       "      <td>1</td>\n",
       "      <td>1</td>\n",
       "      <td>1</td>\n",
       "    </tr>\n",
       "    <tr>\n",
       "      <th>56954.0</th>\n",
       "      <td>1</td>\n",
       "      <td>1</td>\n",
       "      <td>1</td>\n",
       "      <td>1</td>\n",
       "      <td>1</td>\n",
       "      <td>1</td>\n",
       "      <td>1</td>\n",
       "      <td>1</td>\n",
       "      <td>1</td>\n",
       "      <td>1</td>\n",
       "      <td>1</td>\n",
       "      <td>1</td>\n",
       "      <td>1</td>\n",
       "      <td>1</td>\n",
       "      <td>1</td>\n",
       "      <td>1</td>\n",
       "    </tr>\n",
       "    <tr>\n",
       "      <th>60970.0</th>\n",
       "      <td>1</td>\n",
       "      <td>1</td>\n",
       "      <td>1</td>\n",
       "      <td>1</td>\n",
       "      <td>1</td>\n",
       "      <td>1</td>\n",
       "      <td>1</td>\n",
       "      <td>1</td>\n",
       "      <td>1</td>\n",
       "      <td>1</td>\n",
       "      <td>1</td>\n",
       "      <td>1</td>\n",
       "      <td>1</td>\n",
       "      <td>1</td>\n",
       "      <td>1</td>\n",
       "      <td>1</td>\n",
       "    </tr>\n",
       "    <tr>\n",
       "      <th>61247.0</th>\n",
       "      <td>1</td>\n",
       "      <td>1</td>\n",
       "      <td>1</td>\n",
       "      <td>1</td>\n",
       "      <td>1</td>\n",
       "      <td>1</td>\n",
       "      <td>1</td>\n",
       "      <td>1</td>\n",
       "      <td>1</td>\n",
       "      <td>1</td>\n",
       "      <td>1</td>\n",
       "      <td>1</td>\n",
       "      <td>1</td>\n",
       "      <td>1</td>\n",
       "      <td>1</td>\n",
       "      <td>1</td>\n",
       "    </tr>\n",
       "    <tr>\n",
       "      <th>62655.0</th>\n",
       "      <td>1</td>\n",
       "      <td>1</td>\n",
       "      <td>1</td>\n",
       "      <td>1</td>\n",
       "      <td>1</td>\n",
       "      <td>1</td>\n",
       "      <td>1</td>\n",
       "      <td>1</td>\n",
       "      <td>1</td>\n",
       "      <td>1</td>\n",
       "      <td>1</td>\n",
       "      <td>1</td>\n",
       "      <td>1</td>\n",
       "      <td>1</td>\n",
       "      <td>1</td>\n",
       "      <td>1</td>\n",
       "    </tr>\n",
       "  </tbody>\n",
       "</table>\n",
       "<p>12372 rows × 16 columns</p>\n",
       "</div>"
      ],
      "text/plain": [
       "          name    a    e    i   om    w    q   ad  per_y  condition_code    H  \\\n",
       "data_arc                                                                        \n",
       "1.0        795  795  795  795  795  795  795  795    795             795  649   \n",
       "2.0        948  948  948  948  948  948  948  948    948             948  858   \n",
       "3.0        598  598  598  598  598  598  598  598    598             598  597   \n",
       "4.0        416  416  416  416  416  416  416  416    416             416  408   \n",
       "5.0        424  424  424  424  424  424  424  424    424             424  415   \n",
       "...        ...  ...  ...  ...  ...  ...  ...  ...    ...             ...  ...   \n",
       "56904.0      1    1    1    1    1    1    1    1      1               1    1   \n",
       "56954.0      1    1    1    1    1    1    1    1      1               1    1   \n",
       "60970.0      1    1    1    1    1    1    1    1      1               1    1   \n",
       "61247.0      1    1    1    1    1    1    1    1      1               1    1   \n",
       "62655.0      1    1    1    1    1    1    1    1      1               1    1   \n",
       "\n",
       "          neo  diameter  albedo  rot_per  moid  \n",
       "data_arc                                        \n",
       "1.0       795       432     403        0   795  \n",
       "2.0       948       178     165        0   948  \n",
       "3.0       598         3       2        1   598  \n",
       "4.0       416        12      12        0   416  \n",
       "5.0       424         8       8        1   424  \n",
       "...       ...       ...     ...      ...   ...  \n",
       "56904.0     1         1       1        1     1  \n",
       "56954.0     1         1       1        1     1  \n",
       "60970.0     1         1       1        1     1  \n",
       "61247.0     1         1       1        1     1  \n",
       "62655.0     1         1       1        1     1  \n",
       "\n",
       "[12372 rows x 16 columns]"
      ]
     },
     "execution_count": 89,
     "metadata": {},
     "output_type": "execute_result"
    }
   ],
   "source": [
    "DF.groupby(\"data_arc\").count()"
   ]
  },
  {
   "cell_type": "code",
   "execution_count": 90,
   "id": "163585ee-1d1c-4237-aec4-20458c746620",
   "metadata": {},
   "outputs": [
    {
     "name": "stderr",
     "output_type": "stream",
     "text": [
      "C:\\Users\\harsh\\AppData\\Local\\Temp\\ipykernel_16472\\2811880156.py:1: FutureWarning: A value is trying to be set on a copy of a DataFrame or Series through chained assignment using an inplace method.\n",
      "The behavior will change in pandas 3.0. This inplace method will never work because the intermediate object on which we are setting values always behaves as a copy.\n",
      "\n",
      "For example, when doing 'df[col].method(value, inplace=True)', try using 'df.method({col: value}, inplace=True)' or df[col] = df[col].method(value) instead, to perform the operation inplace on the original object.\n",
      "\n",
      "\n",
      "  DF[\"data_arc\"].fillna(DF.data_arc.mean(),inplace=True)\n"
     ]
    }
   ],
   "source": [
    "DF[\"data_arc\"].fillna(DF.data_arc.mean(),inplace=True)"
   ]
  },
  {
   "cell_type": "markdown",
   "id": "7a9b7ba2-6b13-45fc-ac00-fbf4e6aa9d80",
   "metadata": {},
   "source": [
    "How Removal of DataArc effects the model"
   ]
  },
  {
   "cell_type": "code",
   "execution_count": 92,
   "id": "ac2b486b-5ab8-438f-bd81-74441cdc6a14",
   "metadata": {},
   "outputs": [
    {
     "data": {
      "text/plain": [
       "0.9999078780522169"
      ]
     },
     "execution_count": 92,
     "metadata": {},
     "output_type": "execute_result"
    }
   ],
   "source": [
    "df4 = df3.drop([\"data_arc\"],axis=\"columns\")\n",
    "X_train,X_test,y_train,y_test=train_test_split(df4.drop(\"pha\",axis=\"columns\"),df4.pha)\n",
    "model1=BaggingClassifier(estimator=(DecisionTreeClassifier()),n_estimators=100,max_samples=0.85)\n",
    "model1.fit(X_train,y_train)\n",
    "model1.score(X_test,y_test)"
   ]
  },
  {
   "cell_type": "code",
   "execution_count": 240,
   "id": "e78f5c44-4e57-4be7-9bd3-69936d1a7c98",
   "metadata": {},
   "outputs": [],
   "source": [
    "#The score reduced is very small so it may be removed but so as to reduce the number of errors in the prediction its not removed  "
   ]
  },
  {
   "cell_type": "code",
   "execution_count": 94,
   "id": "d5f9e7de-804e-40be-b0ed-006120ff9439",
   "metadata": {},
   "outputs": [],
   "source": [
    "#Filling H By median "
   ]
  },
  {
   "cell_type": "code",
   "execution_count": 95,
   "id": "7bc0f4ee-08ea-4bd6-b651-bbe69c96b44e",
   "metadata": {
    "scrolled": true
   },
   "outputs": [
    {
     "data": {
      "text/plain": [
       "array([  605,  1681,  2452,  3519,  3547,  4103,  4148,  4217,  4725,\n",
       "        4734,  5265,  5476,  5794,  5920,  6499,  6992,  7319,  7397,\n",
       "        8200,  8315,  8322,  8609,  8946,  9449,  9459,  9471,  9587,\n",
       "       10387, 10444, 10987, 11854, 12292, 12513, 12534, 13108, 13314,\n",
       "       13418, 13442, 13545, 13656, 14689, 14799, 14845, 15122, 15492,\n",
       "       16223, 16226, 16345, 16455, 16612, 16738, 16909, 16975, 17027,\n",
       "       17140, 17162, 17290, 17481, 18365, 18410, 18504, 18666, 19180,\n",
       "       19367, 19912, 20144, 20224, 20475, 20608, 20885, 21061, 21453,\n",
       "       21585, 21748, 21891, 22246, 22450, 22878, 23071, 23636, 23777,\n",
       "       23852, 25021, 25639, 25693, 26217, 26626, 26943, 27366, 27405,\n",
       "       28096, 28480, 28820, 28879, 28964, 29458, 29514, 29935, 30007,\n",
       "       30896, 31101, 31276, 31392, 31407, 31689, 31720, 32546, 33162,\n",
       "       34789, 34893, 35024, 35213, 35633, 36523, 36696, 37127, 37400,\n",
       "       37484, 37740, 37780, 39027, 39212, 39292, 39435, 39436, 39643,\n",
       "       39740, 39922, 39986, 40672, 41148, 41402, 42653, 42714, 42925,\n",
       "       43088, 43136, 43439, 43515, 43707, 43814, 43894, 44065, 44324,\n",
       "       44593, 45448, 45573, 45823, 46515, 46924, 47056, 47167, 47460,\n",
       "       47506, 47655, 47676, 47797, 48214, 50258, 50442, 50473, 50599,\n",
       "       50651, 51152, 51513, 51552, 51825, 52112, 52549, 52696, 52853,\n",
       "       52914, 52947, 52989, 53496, 53552, 53886, 54560, 54645, 54749,\n",
       "       54968, 55636, 55821, 56597, 57226, 57231, 57286, 57376, 57467,\n",
       "       57605, 57643, 57758, 58320, 58457, 58506, 59432, 59679, 59904,\n",
       "       60020, 60115, 60601, 60835, 60852, 61093, 61917, 62203, 62557,\n",
       "       62598, 62846, 63028, 63115, 63411, 63503, 63579, 63646, 64492,\n",
       "       64644, 64669, 64785, 65432, 66363, 66538, 66622, 66842, 67088,\n",
       "       67132, 67174, 67194, 67275, 68209, 68991, 69108, 69209, 69390,\n",
       "       69444, 70170, 70379, 70965, 72038, 72889, 73529, 73611, 73721,\n",
       "       74096, 74451, 74472, 74547, 74833, 74991, 75057, 75468, 75684,\n",
       "       76082, 76181, 76365, 76383, 76425, 76562, 77049, 77104, 77962,\n",
       "       78234, 78587, 78732, 78935, 79654, 80014, 80017, 80321, 81732,\n",
       "       81977], dtype=int64)"
      ]
     },
     "execution_count": 95,
     "metadata": {},
     "output_type": "execute_result"
    }
   ],
   "source": [
    "H_nan_index=DF[DF.H.isna()].index.values\n",
    "H_nan_index"
   ]
  },
  {
   "cell_type": "code",
   "execution_count": 96,
   "id": "ddf002ad-9bfa-4ae0-92e6-267d3b92f3f5",
   "metadata": {},
   "outputs": [
    {
     "data": {
      "text/plain": [
       "(242, 17)"
      ]
     },
     "execution_count": 96,
     "metadata": {},
     "output_type": "execute_result"
    }
   ],
   "source": [
    "DF[DF.H.isna() & DF.albedo.isna()].shape"
   ]
  },
  {
   "cell_type": "code",
   "execution_count": 97,
   "id": "c5513440-e38b-4793-8c7c-6530f250720e",
   "metadata": {},
   "outputs": [
    {
     "data": {
      "text/plain": [
       "(199, 17)"
      ]
     },
     "execution_count": 97,
     "metadata": {},
     "output_type": "execute_result"
    }
   ],
   "source": [
    "DF[DF.H.isna() & DF.diameter.isna()].shape"
   ]
  },
  {
   "cell_type": "code",
   "execution_count": 98,
   "id": "185b7c96-b6f7-4b91-b59a-8f2ddd10428e",
   "metadata": {},
   "outputs": [
    {
     "name": "stderr",
     "output_type": "stream",
     "text": [
      "C:\\Users\\harsh\\AppData\\Local\\Temp\\ipykernel_16472\\3794114540.py:1: FutureWarning: A value is trying to be set on a copy of a DataFrame or Series through chained assignment using an inplace method.\n",
      "The behavior will change in pandas 3.0. This inplace method will never work because the intermediate object on which we are setting values always behaves as a copy.\n",
      "\n",
      "For example, when doing 'df[col].method(value, inplace=True)', try using 'df.method({col: value}, inplace=True)' or df[col] = df[col].method(value) instead, to perform the operation inplace on the original object.\n",
      "\n",
      "\n",
      "  DF.H.fillna(DF.H.median(),inplace=True)\n"
     ]
    }
   ],
   "source": [
    "DF.H.fillna(DF.H.median(),inplace=True)"
   ]
  },
  {
   "cell_type": "code",
   "execution_count": 99,
   "id": "ab967e34-3652-4d2b-8351-02361f17dee2",
   "metadata": {},
   "outputs": [
    {
     "data": {
      "text/plain": [
       "name                  0\n",
       "a                     0\n",
       "e                     0\n",
       "i                     0\n",
       "om                    0\n",
       "w                     0\n",
       "q                     0\n",
       "ad                    0\n",
       "per_y                 0\n",
       "data_arc              0\n",
       "condition_code        1\n",
       "H                     0\n",
       "neo                   1\n",
       "diameter          68667\n",
       "albedo            68802\n",
       "rot_per           80497\n",
       "moid                  0\n",
       "dtype: int64"
      ]
     },
     "execution_count": 99,
     "metadata": {},
     "output_type": "execute_result"
    }
   ],
   "source": [
    "DF.isna().sum()"
   ]
  },
  {
   "cell_type": "code",
   "execution_count": 100,
   "id": "33745ec6-a529-4c25-9c7f-9f8a3fa65226",
   "metadata": {},
   "outputs": [],
   "source": [
    "#Leaving the Conditonal Code as it is as our model can handle nan values "
   ]
  },
  {
   "cell_type": "code",
   "execution_count": 101,
   "id": "318f206e-3c26-471a-85af-27b2386c321c",
   "metadata": {},
   "outputs": [
    {
     "data": {
      "text/html": [
       "<div>\n",
       "<style scoped>\n",
       "    .dataframe tbody tr th:only-of-type {\n",
       "        vertical-align: middle;\n",
       "    }\n",
       "\n",
       "    .dataframe tbody tr th {\n",
       "        vertical-align: top;\n",
       "    }\n",
       "\n",
       "    .dataframe thead th {\n",
       "        text-align: right;\n",
       "    }\n",
       "</style>\n",
       "<table border=\"1\" class=\"dataframe\">\n",
       "  <thead>\n",
       "    <tr style=\"text-align: right;\">\n",
       "      <th></th>\n",
       "      <th>name</th>\n",
       "      <th>a</th>\n",
       "      <th>e</th>\n",
       "      <th>i</th>\n",
       "      <th>om</th>\n",
       "      <th>w</th>\n",
       "      <th>q</th>\n",
       "      <th>ad</th>\n",
       "      <th>per_y</th>\n",
       "      <th>data_arc</th>\n",
       "      <th>condition_code</th>\n",
       "      <th>H</th>\n",
       "      <th>neo</th>\n",
       "      <th>diameter</th>\n",
       "      <th>albedo</th>\n",
       "      <th>rot_per</th>\n",
       "      <th>moid</th>\n",
       "    </tr>\n",
       "  </thead>\n",
       "  <tbody>\n",
       "    <tr>\n",
       "      <th>63771</th>\n",
       "      <td>Asteroid 838493</td>\n",
       "      <td>inf</td>\n",
       "      <td>1.0</td>\n",
       "      <td>155.720291</td>\n",
       "      <td>42.337498</td>\n",
       "      <td>55.893065</td>\n",
       "      <td>4.99753</td>\n",
       "      <td>inf</td>\n",
       "      <td>0.0</td>\n",
       "      <td>67.0</td>\n",
       "      <td>NaN</td>\n",
       "      <td>12.76</td>\n",
       "      <td>NaN</td>\n",
       "      <td>NaN</td>\n",
       "      <td>NaN</td>\n",
       "      <td>NaN</td>\n",
       "      <td>4.06386</td>\n",
       "    </tr>\n",
       "  </tbody>\n",
       "</table>\n",
       "</div>"
      ],
      "text/plain": [
       "                  name    a    e           i         om          w        q  \\\n",
       "63771  Asteroid 838493  inf  1.0  155.720291  42.337498  55.893065  4.99753   \n",
       "\n",
       "        ad  per_y  data_arc  condition_code      H  neo  diameter  albedo  \\\n",
       "63771  inf    0.0      67.0             NaN  12.76  NaN       NaN     NaN   \n",
       "\n",
       "       rot_per     moid  \n",
       "63771      NaN  4.06386  "
      ]
     },
     "execution_count": 101,
     "metadata": {},
     "output_type": "execute_result"
    }
   ],
   "source": [
    "DF[DF.condition_code.isna()]"
   ]
  },
  {
   "cell_type": "code",
   "execution_count": 102,
   "id": "be8b013e-d32a-4d36-a26b-33058e7744a3",
   "metadata": {},
   "outputs": [],
   "source": [
    "# As there are \"infinity\" values in the dataset ,we converted into significantly large value like 1e10"
   ]
  },
  {
   "cell_type": "code",
   "execution_count": 103,
   "id": "a66c5c31-d8d1-461d-9a43-adb1a690fe72",
   "metadata": {},
   "outputs": [],
   "source": [
    "DF.replace([float(\"inf\"),-float(\"inf\")],1e10,inplace=True)"
   ]
  },
  {
   "cell_type": "code",
   "execution_count": 104,
   "id": "32eee66d-bc5b-4d78-b612-c6c19b2b2a25",
   "metadata": {},
   "outputs": [
    {
     "name": "stderr",
     "output_type": "stream",
     "text": [
      "C:\\Users\\harsh\\AppData\\Local\\Temp\\ipykernel_16472\\2043278392.py:2: FutureWarning: Downcasting behavior in `replace` is deprecated and will be removed in a future version. To retain the old behavior, explicitly call `result.infer_objects(copy=False)`. To opt-in to the future behavior, set `pd.set_option('future.no_silent_downcasting', True)`\n",
      "  DF1.replace({\"N\":0,\"Y\":1},inplace=True)\n"
     ]
    }
   ],
   "source": [
    "DF1=DF.drop([\"name\",\"rot_per\",\"diameter\",'albedo'],axis=\"columns\")\n",
    "DF1.replace({\"N\":0,\"Y\":1},inplace=True)"
   ]
  },
  {
   "cell_type": "markdown",
   "id": "e36daa68-79c5-4dd7-b297-4b6d3ddf3e6b",
   "metadata": {},
   "source": [
    "Finalizing Score and exporting it to the Result csv "
   ]
  },
  {
   "cell_type": "code",
   "execution_count": 108,
   "id": "64a22a55-e685-49e6-9585-efba34479e10",
   "metadata": {},
   "outputs": [
    {
     "data": {
      "text/plain": [
       "array([0, 0, 0, ..., 0, 0, 0], dtype=int64)"
      ]
     },
     "execution_count": 108,
     "metadata": {},
     "output_type": "execute_result"
    }
   ],
   "source": [
    "predict = model2.predict(DF1)\n",
    "predict"
   ]
  },
  {
   "cell_type": "code",
   "execution_count": 109,
   "id": "0afdf86d-01ab-4855-8644-a232bb740d49",
   "metadata": {},
   "outputs": [],
   "source": [
    "result_df = pd.DataFrame(\n",
    "    {\"name\":DF.name,\n",
    "     \"pha_prediction\":predict})"
   ]
  },
  {
   "cell_type": "code",
   "execution_count": 110,
   "id": "f1f3adae-69a9-463d-954e-d34fbedae081",
   "metadata": {},
   "outputs": [
    {
     "data": {
      "text/html": [
       "<div>\n",
       "<style scoped>\n",
       "    .dataframe tbody tr th:only-of-type {\n",
       "        vertical-align: middle;\n",
       "    }\n",
       "\n",
       "    .dataframe tbody tr th {\n",
       "        vertical-align: top;\n",
       "    }\n",
       "\n",
       "    .dataframe thead th {\n",
       "        text-align: right;\n",
       "    }\n",
       "</style>\n",
       "<table border=\"1\" class=\"dataframe\">\n",
       "  <thead>\n",
       "    <tr style=\"text-align: right;\">\n",
       "      <th></th>\n",
       "      <th>name</th>\n",
       "      <th>pha_prediction</th>\n",
       "    </tr>\n",
       "  </thead>\n",
       "  <tbody>\n",
       "    <tr>\n",
       "      <th>0</th>\n",
       "      <td>Asteroid 363864</td>\n",
       "      <td>0</td>\n",
       "    </tr>\n",
       "    <tr>\n",
       "      <th>1</th>\n",
       "      <td>Asteroid 306812</td>\n",
       "      <td>0</td>\n",
       "    </tr>\n",
       "    <tr>\n",
       "      <th>2</th>\n",
       "      <td>Asteroid 436087</td>\n",
       "      <td>0</td>\n",
       "    </tr>\n",
       "    <tr>\n",
       "      <th>3</th>\n",
       "      <td>Asteroid 341907</td>\n",
       "      <td>0</td>\n",
       "    </tr>\n",
       "    <tr>\n",
       "      <th>4</th>\n",
       "      <td>Asteroid 536770</td>\n",
       "      <td>0</td>\n",
       "    </tr>\n",
       "    <tr>\n",
       "      <th>...</th>\n",
       "      <td>...</td>\n",
       "      <td>...</td>\n",
       "    </tr>\n",
       "    <tr>\n",
       "      <th>82323</th>\n",
       "      <td>Asteroid 832415</td>\n",
       "      <td>0</td>\n",
       "    </tr>\n",
       "    <tr>\n",
       "      <th>82324</th>\n",
       "      <td>Asteroid 816247</td>\n",
       "      <td>0</td>\n",
       "    </tr>\n",
       "    <tr>\n",
       "      <th>82325</th>\n",
       "      <td>Asteroid 639683</td>\n",
       "      <td>0</td>\n",
       "    </tr>\n",
       "    <tr>\n",
       "      <th>82326</th>\n",
       "      <td>Asteroid 365569</td>\n",
       "      <td>0</td>\n",
       "    </tr>\n",
       "    <tr>\n",
       "      <th>82327</th>\n",
       "      <td>Asteroid 31219</td>\n",
       "      <td>0</td>\n",
       "    </tr>\n",
       "  </tbody>\n",
       "</table>\n",
       "<p>82328 rows × 2 columns</p>\n",
       "</div>"
      ],
      "text/plain": [
       "                  name  pha_prediction\n",
       "0      Asteroid 363864               0\n",
       "1      Asteroid 306812               0\n",
       "2      Asteroid 436087               0\n",
       "3      Asteroid 341907               0\n",
       "4      Asteroid 536770               0\n",
       "...                ...             ...\n",
       "82323  Asteroid 832415               0\n",
       "82324  Asteroid 816247               0\n",
       "82325  Asteroid 639683               0\n",
       "82326  Asteroid 365569               0\n",
       "82327   Asteroid 31219               0\n",
       "\n",
       "[82328 rows x 2 columns]"
      ]
     },
     "execution_count": 110,
     "metadata": {},
     "output_type": "execute_result"
    }
   ],
   "source": [
    "result_df"
   ]
  },
  {
   "cell_type": "code",
   "execution_count": 111,
   "id": "1c726fab-7bdc-4bf1-9f3d-b3615ea439e6",
   "metadata": {},
   "outputs": [],
   "source": [
    "result_df.to_csv(\"RESULT_FINAL2.csv\")"
   ]
  },
  {
   "cell_type": "code",
   "execution_count": null,
   "id": "4738f2e9-444c-4f7c-bca3-0311c260501a",
   "metadata": {},
   "outputs": [],
   "source": []
  },
  {
   "cell_type": "code",
   "execution_count": null,
   "id": "a4eae76b-1602-417e-a0ea-97a8716f4c08",
   "metadata": {},
   "outputs": [],
   "source": []
  },
  {
   "cell_type": "code",
   "execution_count": null,
   "id": "c72cf849-a329-403f-9420-71879a960d15",
   "metadata": {},
   "outputs": [],
   "source": []
  },
  {
   "cell_type": "code",
   "execution_count": null,
   "id": "4e28ebcf-6ab0-4da6-bcb9-26d4797a5a5a",
   "metadata": {},
   "outputs": [],
   "source": []
  },
  {
   "cell_type": "markdown",
   "id": "1503267c-bfda-4ecc-b2d4-2c01f85b0641",
   "metadata": {},
   "source": [
    "Interesting Asteroids with e as '1' and '0'"
   ]
  },
  {
   "cell_type": "code",
   "execution_count": null,
   "id": "11d2f240-39af-4bb7-a997-9cf4d12b2d47",
   "metadata": {},
   "outputs": [],
   "source": []
  },
  {
   "cell_type": "code",
   "execution_count": null,
   "id": "5e04d072-94a0-441c-8ef5-1cb93bd4c07b",
   "metadata": {},
   "outputs": [],
   "source": []
  },
  {
   "cell_type": "code",
   "execution_count": null,
   "id": "c5a33dcc-473d-48da-8128-99aa0d1d308a",
   "metadata": {},
   "outputs": [],
   "source": []
  },
  {
   "cell_type": "code",
   "execution_count": null,
   "id": "454bb464-4c24-44ff-854c-78b932197756",
   "metadata": {},
   "outputs": [],
   "source": []
  },
  {
   "cell_type": "code",
   "execution_count": null,
   "id": "ee1c79e0-fc98-4cdc-a06e-92a3fb302d17",
   "metadata": {},
   "outputs": [],
   "source": []
  },
  {
   "cell_type": "code",
   "execution_count": null,
   "id": "fcf52a26-883e-474c-871e-bd01e9f485d3",
   "metadata": {},
   "outputs": [],
   "source": []
  }
 ],
 "metadata": {
  "kernelspec": {
   "display_name": "Python 3 (ipykernel)",
   "language": "python",
   "name": "python3"
  },
  "language_info": {
   "codemirror_mode": {
    "name": "ipython",
    "version": 3
   },
   "file_extension": ".py",
   "mimetype": "text/x-python",
   "name": "python",
   "nbconvert_exporter": "python",
   "pygments_lexer": "ipython3",
   "version": "3.12.4"
  }
 },
 "nbformat": 4,
 "nbformat_minor": 5
}
